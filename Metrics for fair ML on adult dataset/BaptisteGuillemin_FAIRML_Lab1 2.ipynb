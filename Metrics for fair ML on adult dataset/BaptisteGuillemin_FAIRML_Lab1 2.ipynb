{
  "nbformat": 4,
  "nbformat_minor": 0,
  "metadata": {
    "colab": {
      "provenance": []
    },
    "kernelspec": {
      "name": "python3",
      "display_name": "Python 3"
    },
    "language_info": {
      "name": "python"
    }
  },
  "cells": [
    {
      "cell_type": "markdown",
      "source": [
        "This Lab is based on AIF360 tutorials. If interested, you can find more tutorials and tools at https://github.com/Trusted-AI/AIF360 \n",
        "\n",
        "\n"
      ],
      "metadata": {
        "id": "K49_AEo4lf8e"
      }
    },
    {
      "cell_type": "markdown",
      "source": [
        "## **Installations**"
      ],
      "metadata": {
        "id": "9XEQ0Qli1V6I"
      }
    },
    {
      "cell_type": "code",
      "source": [
        "# install the package\n",
        "!pip install 'aif360[all]'"
      ],
      "metadata": {
        "colab": {
          "base_uri": "https://localhost:8080/",
          "height": 1000
        },
        "collapsed": true,
        "id": "eU8U5dV6msi5",
        "outputId": "16a81139-2842-4309-a692-4674805e7291"
      },
      "execution_count": null,
      "outputs": [
        {
          "output_type": "stream",
          "name": "stdout",
          "text": [
            "Looking in indexes: https://pypi.org/simple, https://us-python.pkg.dev/colab-wheels/public/simple/\n",
            "Collecting aif360[all]\n",
            "  Downloading aif360-0.5.0-py3-none-any.whl (214 kB)\n",
            "\u001b[K     |████████████████████████████████| 214 kB 5.5 MB/s \n",
            "\u001b[?25hRequirement already satisfied: scikit-learn>=1.0 in /usr/local/lib/python3.8/dist-packages (from aif360[all]) (1.0.2)\n",
            "Requirement already satisfied: pandas>=0.24.0 in /usr/local/lib/python3.8/dist-packages (from aif360[all]) (1.3.5)\n",
            "Requirement already satisfied: matplotlib in /usr/local/lib/python3.8/dist-packages (from aif360[all]) (3.2.2)\n",
            "Requirement already satisfied: scipy>=1.2.0 in /usr/local/lib/python3.8/dist-packages (from aif360[all]) (1.7.3)\n",
            "Requirement already satisfied: numpy>=1.16 in /usr/local/lib/python3.8/dist-packages (from aif360[all]) (1.21.6)\n",
            "Requirement already satisfied: tensorflow>=1.13.1 in /usr/local/lib/python3.8/dist-packages (from aif360[all]) (2.9.2)\n",
            "Requirement already satisfied: seaborn in /usr/local/lib/python3.8/dist-packages (from aif360[all]) (0.11.2)\n",
            "Requirement already satisfied: pytest>=3.5 in /usr/local/lib/python3.8/dist-packages (from aif360[all]) (3.6.4)\n",
            "Requirement already satisfied: torch in /usr/local/lib/python3.8/dist-packages (from aif360[all]) (1.13.0+cu116)\n",
            "Collecting fairlearn~=0.7\n",
            "  Downloading fairlearn-0.8.0-py3-none-any.whl (235 kB)\n",
            "\u001b[K     |████████████████████████████████| 235 kB 59.4 MB/s \n",
            "\u001b[?25hCollecting lime\n",
            "  Downloading lime-0.2.0.1.tar.gz (275 kB)\n",
            "\u001b[K     |████████████████████████████████| 275 kB 51.9 MB/s \n",
            "\u001b[?25hRequirement already satisfied: lightgbm in /usr/local/lib/python3.8/dist-packages (from aif360[all]) (2.2.3)\n",
            "Requirement already satisfied: sphinx<2 in /usr/local/lib/python3.8/dist-packages (from aif360[all]) (1.8.6)\n",
            "Collecting sphinx-rtd-theme\n",
            "  Downloading sphinx_rtd_theme-1.1.1-py2.py3-none-any.whl (2.8 MB)\n",
            "\u001b[K     |████████████████████████████████| 2.8 MB 48.1 MB/s \n",
            "\u001b[?25hCollecting jupyter\n",
            "  Downloading jupyter-1.0.0-py2.py3-none-any.whl (2.7 kB)\n",
            "Collecting adversarial-robustness-toolbox>=1.0.0\n",
            "  Downloading adversarial_robustness_toolbox-1.12.2-py3-none-any.whl (1.4 MB)\n",
            "\u001b[K     |████████████████████████████████| 1.4 MB 33.5 MB/s \n",
            "\u001b[?25hRequirement already satisfied: jinja2<3.1.0 in /usr/local/lib/python3.8/dist-packages (from aif360[all]) (2.11.3)\n",
            "Collecting BlackBoxAuditing\n",
            "  Downloading BlackBoxAuditing-0.1.54.tar.gz (2.6 MB)\n",
            "\u001b[K     |████████████████████████████████| 2.6 MB 29.1 MB/s \n",
            "\u001b[?25hRequirement already satisfied: cvxpy>=1.0 in /usr/local/lib/python3.8/dist-packages (from aif360[all]) (1.2.2)\n",
            "Requirement already satisfied: tqdm in /usr/local/lib/python3.8/dist-packages (from aif360[all]) (4.64.1)\n",
            "Collecting igraph[plotting]\n",
            "  Downloading igraph-0.10.2-cp38-cp38-manylinux_2_17_x86_64.manylinux2014_x86_64.whl (3.3 MB)\n",
            "\u001b[K     |████████████████████████████████| 3.3 MB 11.6 MB/s \n",
            "\u001b[?25hCollecting tempeh\n",
            "  Downloading tempeh-0.1.12-py3-none-any.whl (39 kB)\n",
            "Requirement already satisfied: rpy2 in /usr/local/lib/python3.8/dist-packages (from aif360[all]) (3.5.5)\n",
            "Collecting ipympl\n",
            "  Downloading ipympl-0.9.2-py2.py3-none-any.whl (510 kB)\n",
            "\u001b[K     |████████████████████████████████| 510 kB 46.0 MB/s \n",
            "\u001b[?25hRequirement already satisfied: setuptools in /usr/local/lib/python3.8/dist-packages (from adversarial-robustness-toolbox>=1.0.0->aif360[all]) (57.4.0)\n",
            "Requirement already satisfied: six in /usr/local/lib/python3.8/dist-packages (from adversarial-robustness-toolbox>=1.0.0->aif360[all]) (1.15.0)\n",
            "Requirement already satisfied: osqp>=0.4.1 in /usr/local/lib/python3.8/dist-packages (from cvxpy>=1.0->aif360[all]) (0.6.2.post0)\n",
            "Requirement already satisfied: scs>=1.1.6 in /usr/local/lib/python3.8/dist-packages (from cvxpy>=1.0->aif360[all]) (3.2.2)\n",
            "Requirement already satisfied: ecos>=2 in /usr/local/lib/python3.8/dist-packages (from cvxpy>=1.0->aif360[all]) (2.0.10)\n",
            "Requirement already satisfied: MarkupSafe>=0.23 in /usr/local/lib/python3.8/dist-packages (from jinja2<3.1.0->aif360[all]) (2.0.1)\n",
            "Requirement already satisfied: qdldl in /usr/local/lib/python3.8/dist-packages (from osqp>=0.4.1->cvxpy>=1.0->aif360[all]) (0.1.5.post2)\n",
            "Requirement already satisfied: pytz>=2017.3 in /usr/local/lib/python3.8/dist-packages (from pandas>=0.24.0->aif360[all]) (2022.6)\n",
            "Requirement already satisfied: python-dateutil>=2.7.3 in /usr/local/lib/python3.8/dist-packages (from pandas>=0.24.0->aif360[all]) (2.8.2)\n",
            "Requirement already satisfied: py>=1.5.0 in /usr/local/lib/python3.8/dist-packages (from pytest>=3.5->aif360[all]) (1.11.0)\n",
            "Requirement already satisfied: more-itertools>=4.0.0 in /usr/local/lib/python3.8/dist-packages (from pytest>=3.5->aif360[all]) (9.0.0)\n",
            "Requirement already satisfied: atomicwrites>=1.0 in /usr/local/lib/python3.8/dist-packages (from pytest>=3.5->aif360[all]) (1.4.1)\n",
            "Requirement already satisfied: attrs>=17.4.0 in /usr/local/lib/python3.8/dist-packages (from pytest>=3.5->aif360[all]) (22.1.0)\n",
            "Requirement already satisfied: pluggy<0.8,>=0.5 in /usr/local/lib/python3.8/dist-packages (from pytest>=3.5->aif360[all]) (0.7.1)\n",
            "Requirement already satisfied: joblib>=0.11 in /usr/local/lib/python3.8/dist-packages (from scikit-learn>=1.0->aif360[all]) (1.2.0)\n",
            "Requirement already satisfied: threadpoolctl>=2.0.0 in /usr/local/lib/python3.8/dist-packages (from scikit-learn>=1.0->aif360[all]) (3.1.0)\n",
            "Requirement already satisfied: requests>=2.0.0 in /usr/local/lib/python3.8/dist-packages (from sphinx<2->aif360[all]) (2.23.0)\n",
            "Requirement already satisfied: imagesize in /usr/local/lib/python3.8/dist-packages (from sphinx<2->aif360[all]) (1.4.1)\n",
            "Requirement already satisfied: Pygments>=2.0 in /usr/local/lib/python3.8/dist-packages (from sphinx<2->aif360[all]) (2.6.1)\n",
            "Requirement already satisfied: alabaster<0.8,>=0.7 in /usr/local/lib/python3.8/dist-packages (from sphinx<2->aif360[all]) (0.7.12)\n",
            "Requirement already satisfied: packaging in /usr/local/lib/python3.8/dist-packages (from sphinx<2->aif360[all]) (21.3)\n",
            "Requirement already satisfied: babel!=2.0,>=1.3 in /usr/local/lib/python3.8/dist-packages (from sphinx<2->aif360[all]) (2.11.0)\n",
            "Requirement already satisfied: snowballstemmer>=1.1 in /usr/local/lib/python3.8/dist-packages (from sphinx<2->aif360[all]) (2.2.0)\n",
            "Requirement already satisfied: sphinxcontrib-websupport in /usr/local/lib/python3.8/dist-packages (from sphinx<2->aif360[all]) (1.2.4)\n",
            "Requirement already satisfied: docutils<0.18,>=0.11 in /usr/local/lib/python3.8/dist-packages (from sphinx<2->aif360[all]) (0.17.1)\n",
            "Requirement already satisfied: chardet<4,>=3.0.2 in /usr/local/lib/python3.8/dist-packages (from requests>=2.0.0->sphinx<2->aif360[all]) (3.0.4)\n",
            "Requirement already satisfied: urllib3!=1.25.0,!=1.25.1,<1.26,>=1.21.1 in /usr/local/lib/python3.8/dist-packages (from requests>=2.0.0->sphinx<2->aif360[all]) (1.24.3)\n",
            "Requirement already satisfied: certifi>=2017.4.17 in /usr/local/lib/python3.8/dist-packages (from requests>=2.0.0->sphinx<2->aif360[all]) (2022.9.24)\n",
            "Requirement already satisfied: idna<3,>=2.5 in /usr/local/lib/python3.8/dist-packages (from requests>=2.0.0->sphinx<2->aif360[all]) (2.10)\n",
            "Requirement already satisfied: protobuf<3.20,>=3.9.2 in /usr/local/lib/python3.8/dist-packages (from tensorflow>=1.13.1->aif360[all]) (3.19.6)\n",
            "Requirement already satisfied: gast<=0.4.0,>=0.2.1 in /usr/local/lib/python3.8/dist-packages (from tensorflow>=1.13.1->aif360[all]) (0.4.0)\n",
            "Requirement already satisfied: h5py>=2.9.0 in /usr/local/lib/python3.8/dist-packages (from tensorflow>=1.13.1->aif360[all]) (3.1.0)\n",
            "Requirement already satisfied: opt-einsum>=2.3.2 in /usr/local/lib/python3.8/dist-packages (from tensorflow>=1.13.1->aif360[all]) (3.3.0)\n",
            "Requirement already satisfied: tensorboard<2.10,>=2.9 in /usr/local/lib/python3.8/dist-packages (from tensorflow>=1.13.1->aif360[all]) (2.9.1)\n",
            "Requirement already satisfied: astunparse>=1.6.0 in /usr/local/lib/python3.8/dist-packages (from tensorflow>=1.13.1->aif360[all]) (1.6.3)\n",
            "Requirement already satisfied: typing-extensions>=3.6.6 in /usr/local/lib/python3.8/dist-packages (from tensorflow>=1.13.1->aif360[all]) (4.4.0)\n",
            "Requirement already satisfied: libclang>=13.0.0 in /usr/local/lib/python3.8/dist-packages (from tensorflow>=1.13.1->aif360[all]) (14.0.6)\n",
            "Requirement already satisfied: keras-preprocessing>=1.1.1 in /usr/local/lib/python3.8/dist-packages (from tensorflow>=1.13.1->aif360[all]) (1.1.2)\n",
            "Requirement already satisfied: termcolor>=1.1.0 in /usr/local/lib/python3.8/dist-packages (from tensorflow>=1.13.1->aif360[all]) (2.1.1)\n",
            "Requirement already satisfied: flatbuffers<2,>=1.12 in /usr/local/lib/python3.8/dist-packages (from tensorflow>=1.13.1->aif360[all]) (1.12)\n",
            "Requirement already satisfied: google-pasta>=0.1.1 in /usr/local/lib/python3.8/dist-packages (from tensorflow>=1.13.1->aif360[all]) (0.2.0)\n",
            "Requirement already satisfied: tensorflow-io-gcs-filesystem>=0.23.1 in /usr/local/lib/python3.8/dist-packages (from tensorflow>=1.13.1->aif360[all]) (0.28.0)\n",
            "Requirement already satisfied: grpcio<2.0,>=1.24.3 in /usr/local/lib/python3.8/dist-packages (from tensorflow>=1.13.1->aif360[all]) (1.51.1)\n",
            "Requirement already satisfied: keras<2.10.0,>=2.9.0rc0 in /usr/local/lib/python3.8/dist-packages (from tensorflow>=1.13.1->aif360[all]) (2.9.0)\n",
            "Requirement already satisfied: wrapt>=1.11.0 in /usr/local/lib/python3.8/dist-packages (from tensorflow>=1.13.1->aif360[all]) (1.14.1)\n",
            "Requirement already satisfied: tensorflow-estimator<2.10.0,>=2.9.0rc0 in /usr/local/lib/python3.8/dist-packages (from tensorflow>=1.13.1->aif360[all]) (2.9.0)\n",
            "Requirement already satisfied: absl-py>=1.0.0 in /usr/local/lib/python3.8/dist-packages (from tensorflow>=1.13.1->aif360[all]) (1.3.0)\n",
            "Requirement already satisfied: wheel<1.0,>=0.23.0 in /usr/local/lib/python3.8/dist-packages (from astunparse>=1.6.0->tensorflow>=1.13.1->aif360[all]) (0.38.4)\n",
            "Requirement already satisfied: markdown>=2.6.8 in /usr/local/lib/python3.8/dist-packages (from tensorboard<2.10,>=2.9->tensorflow>=1.13.1->aif360[all]) (3.4.1)\n",
            "Requirement already satisfied: werkzeug>=1.0.1 in /usr/local/lib/python3.8/dist-packages (from tensorboard<2.10,>=2.9->tensorflow>=1.13.1->aif360[all]) (1.0.1)\n",
            "Requirement already satisfied: google-auth-oauthlib<0.5,>=0.4.1 in /usr/local/lib/python3.8/dist-packages (from tensorboard<2.10,>=2.9->tensorflow>=1.13.1->aif360[all]) (0.4.6)\n",
            "Requirement already satisfied: tensorboard-data-server<0.7.0,>=0.6.0 in /usr/local/lib/python3.8/dist-packages (from tensorboard<2.10,>=2.9->tensorflow>=1.13.1->aif360[all]) (0.6.1)\n",
            "Requirement already satisfied: google-auth<3,>=1.6.3 in /usr/local/lib/python3.8/dist-packages (from tensorboard<2.10,>=2.9->tensorflow>=1.13.1->aif360[all]) (2.15.0)\n",
            "Requirement already satisfied: tensorboard-plugin-wit>=1.6.0 in /usr/local/lib/python3.8/dist-packages (from tensorboard<2.10,>=2.9->tensorflow>=1.13.1->aif360[all]) (1.8.1)\n",
            "Requirement already satisfied: pyasn1-modules>=0.2.1 in /usr/local/lib/python3.8/dist-packages (from google-auth<3,>=1.6.3->tensorboard<2.10,>=2.9->tensorflow>=1.13.1->aif360[all]) (0.2.8)\n",
            "Requirement already satisfied: cachetools<6.0,>=2.0.0 in /usr/local/lib/python3.8/dist-packages (from google-auth<3,>=1.6.3->tensorboard<2.10,>=2.9->tensorflow>=1.13.1->aif360[all]) (5.2.0)\n",
            "Requirement already satisfied: rsa<5,>=3.1.4 in /usr/local/lib/python3.8/dist-packages (from google-auth<3,>=1.6.3->tensorboard<2.10,>=2.9->tensorflow>=1.13.1->aif360[all]) (4.9)\n",
            "Requirement already satisfied: requests-oauthlib>=0.7.0 in /usr/local/lib/python3.8/dist-packages (from google-auth-oauthlib<0.5,>=0.4.1->tensorboard<2.10,>=2.9->tensorflow>=1.13.1->aif360[all]) (1.3.1)\n",
            "Requirement already satisfied: importlib-metadata>=4.4 in /usr/local/lib/python3.8/dist-packages (from markdown>=2.6.8->tensorboard<2.10,>=2.9->tensorflow>=1.13.1->aif360[all]) (4.13.0)\n",
            "Requirement already satisfied: zipp>=0.5 in /usr/local/lib/python3.8/dist-packages (from importlib-metadata>=4.4->markdown>=2.6.8->tensorboard<2.10,>=2.9->tensorflow>=1.13.1->aif360[all]) (3.11.0)\n",
            "Requirement already satisfied: pyasn1<0.5.0,>=0.4.6 in /usr/local/lib/python3.8/dist-packages (from pyasn1-modules>=0.2.1->google-auth<3,>=1.6.3->tensorboard<2.10,>=2.9->tensorflow>=1.13.1->aif360[all]) (0.4.8)\n",
            "Requirement already satisfied: oauthlib>=3.0.0 in /usr/local/lib/python3.8/dist-packages (from requests-oauthlib>=0.7.0->google-auth-oauthlib<0.5,>=0.4.1->tensorboard<2.10,>=2.9->tensorflow>=1.13.1->aif360[all]) (3.2.2)\n",
            "Requirement already satisfied: networkx in /usr/local/lib/python3.8/dist-packages (from BlackBoxAuditing->aif360[all]) (2.8.8)\n",
            "Collecting texttable>=1.6.2\n",
            "  Downloading texttable-1.6.7-py2.py3-none-any.whl (10 kB)\n",
            "Collecting cairocffi>=1.2.0\n",
            "  Downloading cairocffi-1.4.0.tar.gz (69 kB)\n",
            "\u001b[K     |████████████████████████████████| 69 kB 4.4 MB/s \n",
            "\u001b[?25hRequirement already satisfied: cffi>=1.1.0 in /usr/local/lib/python3.8/dist-packages (from cairocffi>=1.2.0->igraph[plotting]->aif360[all]) (1.15.1)\n",
            "Requirement already satisfied: pycparser in /usr/local/lib/python3.8/dist-packages (from cffi>=1.1.0->cairocffi>=1.2.0->igraph[plotting]->aif360[all]) (2.21)\n",
            "Requirement already satisfied: pillow in /usr/local/lib/python3.8/dist-packages (from ipympl->aif360[all]) (7.1.2)\n",
            "Requirement already satisfied: ipython<9 in /usr/local/lib/python3.8/dist-packages (from ipympl->aif360[all]) (7.9.0)\n",
            "Requirement already satisfied: ipython-genutils in /usr/local/lib/python3.8/dist-packages (from ipympl->aif360[all]) (0.2.0)\n",
            "Requirement already satisfied: traitlets<6 in /usr/local/lib/python3.8/dist-packages (from ipympl->aif360[all]) (5.6.0)\n",
            "Collecting matplotlib\n",
            "  Downloading matplotlib-3.6.2-cp38-cp38-manylinux_2_12_x86_64.manylinux2010_x86_64.whl (9.4 MB)\n",
            "\u001b[K     |████████████████████████████████| 9.4 MB 10.2 MB/s \n",
            "\u001b[?25hRequirement already satisfied: ipywidgets<9,>=7.6.0 in /usr/local/lib/python3.8/dist-packages (from ipympl->aif360[all]) (7.7.1)\n",
            "Requirement already satisfied: pexpect in /usr/local/lib/python3.8/dist-packages (from ipython<9->ipympl->aif360[all]) (4.8.0)\n",
            "Collecting jedi>=0.10\n",
            "  Downloading jedi-0.18.2-py2.py3-none-any.whl (1.6 MB)\n",
            "\u001b[K     |████████████████████████████████| 1.6 MB 16.6 MB/s \n",
            "\u001b[?25hRequirement already satisfied: backcall in /usr/local/lib/python3.8/dist-packages (from ipython<9->ipympl->aif360[all]) (0.2.0)\n",
            "Requirement already satisfied: decorator in /usr/local/lib/python3.8/dist-packages (from ipython<9->ipympl->aif360[all]) (4.4.2)\n",
            "Requirement already satisfied: prompt-toolkit<2.1.0,>=2.0.0 in /usr/local/lib/python3.8/dist-packages (from ipython<9->ipympl->aif360[all]) (2.0.10)\n",
            "Requirement already satisfied: pickleshare in /usr/local/lib/python3.8/dist-packages (from ipython<9->ipympl->aif360[all]) (0.7.5)\n",
            "Requirement already satisfied: widgetsnbextension~=3.6.0 in /usr/local/lib/python3.8/dist-packages (from ipywidgets<9,>=7.6.0->ipympl->aif360[all]) (3.6.1)\n",
            "Requirement already satisfied: jupyterlab-widgets>=1.0.0 in /usr/local/lib/python3.8/dist-packages (from ipywidgets<9,>=7.6.0->ipympl->aif360[all]) (3.0.3)\n",
            "Requirement already satisfied: ipykernel>=4.5.1 in /usr/local/lib/python3.8/dist-packages (from ipywidgets<9,>=7.6.0->ipympl->aif360[all]) (5.3.4)\n",
            "Requirement already satisfied: tornado>=4.2 in /usr/local/lib/python3.8/dist-packages (from ipykernel>=4.5.1->ipywidgets<9,>=7.6.0->ipympl->aif360[all]) (6.0.4)\n",
            "Requirement already satisfied: jupyter-client in /usr/local/lib/python3.8/dist-packages (from ipykernel>=4.5.1->ipywidgets<9,>=7.6.0->ipympl->aif360[all]) (6.1.12)\n",
            "Requirement already satisfied: parso<0.9.0,>=0.8.0 in /usr/local/lib/python3.8/dist-packages (from jedi>=0.10->ipython<9->ipympl->aif360[all]) (0.8.3)\n",
            "Requirement already satisfied: kiwisolver>=1.0.1 in /usr/local/lib/python3.8/dist-packages (from matplotlib->aif360[all]) (1.4.4)\n",
            "Collecting contourpy>=1.0.1\n",
            "  Downloading contourpy-1.0.6-cp38-cp38-manylinux_2_17_x86_64.manylinux2014_x86_64.whl (295 kB)\n",
            "\u001b[K     |████████████████████████████████| 295 kB 48.4 MB/s \n",
            "\u001b[?25hRequirement already satisfied: pyparsing>=2.2.1 in /usr/local/lib/python3.8/dist-packages (from matplotlib->aif360[all]) (3.0.9)\n",
            "Collecting fonttools>=4.22.0\n",
            "  Downloading fonttools-4.38.0-py3-none-any.whl (965 kB)\n",
            "\u001b[K     |████████████████████████████████| 965 kB 48.8 MB/s \n",
            "\u001b[?25hRequirement already satisfied: cycler>=0.10 in /usr/local/lib/python3.8/dist-packages (from matplotlib->aif360[all]) (0.11.0)\n",
            "Requirement already satisfied: wcwidth in /usr/local/lib/python3.8/dist-packages (from prompt-toolkit<2.1.0,>=2.0.0->ipython<9->ipympl->aif360[all]) (0.2.5)\n",
            "Requirement already satisfied: notebook>=4.4.1 in /usr/local/lib/python3.8/dist-packages (from widgetsnbextension~=3.6.0->ipywidgets<9,>=7.6.0->ipympl->aif360[all]) (5.7.16)\n",
            "Requirement already satisfied: prometheus-client in /usr/local/lib/python3.8/dist-packages (from notebook>=4.4.1->widgetsnbextension~=3.6.0->ipywidgets<9,>=7.6.0->ipympl->aif360[all]) (0.15.0)\n",
            "Requirement already satisfied: jupyter-core>=4.4.0 in /usr/local/lib/python3.8/dist-packages (from notebook>=4.4.1->widgetsnbextension~=3.6.0->ipywidgets<9,>=7.6.0->ipympl->aif360[all]) (5.1.0)\n",
            "Requirement already satisfied: pyzmq>=17 in /usr/local/lib/python3.8/dist-packages (from notebook>=4.4.1->widgetsnbextension~=3.6.0->ipywidgets<9,>=7.6.0->ipympl->aif360[all]) (23.2.1)\n",
            "Requirement already satisfied: nbformat in /usr/local/lib/python3.8/dist-packages (from notebook>=4.4.1->widgetsnbextension~=3.6.0->ipywidgets<9,>=7.6.0->ipympl->aif360[all]) (5.7.0)\n",
            "Requirement already satisfied: nbconvert<6.0 in /usr/local/lib/python3.8/dist-packages (from notebook>=4.4.1->widgetsnbextension~=3.6.0->ipywidgets<9,>=7.6.0->ipympl->aif360[all]) (5.6.1)\n",
            "Requirement already satisfied: Send2Trash in /usr/local/lib/python3.8/dist-packages (from notebook>=4.4.1->widgetsnbextension~=3.6.0->ipywidgets<9,>=7.6.0->ipympl->aif360[all]) (1.8.0)\n",
            "Requirement already satisfied: terminado>=0.8.1 in /usr/local/lib/python3.8/dist-packages (from notebook>=4.4.1->widgetsnbextension~=3.6.0->ipywidgets<9,>=7.6.0->ipympl->aif360[all]) (0.13.3)\n",
            "Requirement already satisfied: platformdirs>=2.5 in /usr/local/lib/python3.8/dist-packages (from jupyter-core>=4.4.0->notebook>=4.4.1->widgetsnbextension~=3.6.0->ipywidgets<9,>=7.6.0->ipympl->aif360[all]) (2.5.4)\n",
            "Requirement already satisfied: bleach in /usr/local/lib/python3.8/dist-packages (from nbconvert<6.0->notebook>=4.4.1->widgetsnbextension~=3.6.0->ipywidgets<9,>=7.6.0->ipympl->aif360[all]) (5.0.1)\n",
            "Requirement already satisfied: mistune<2,>=0.8.1 in /usr/local/lib/python3.8/dist-packages (from nbconvert<6.0->notebook>=4.4.1->widgetsnbextension~=3.6.0->ipywidgets<9,>=7.6.0->ipympl->aif360[all]) (0.8.4)\n",
            "Requirement already satisfied: entrypoints>=0.2.2 in /usr/local/lib/python3.8/dist-packages (from nbconvert<6.0->notebook>=4.4.1->widgetsnbextension~=3.6.0->ipywidgets<9,>=7.6.0->ipympl->aif360[all]) (0.4)\n",
            "Requirement already satisfied: testpath in /usr/local/lib/python3.8/dist-packages (from nbconvert<6.0->notebook>=4.4.1->widgetsnbextension~=3.6.0->ipywidgets<9,>=7.6.0->ipympl->aif360[all]) (0.6.0)\n",
            "Requirement already satisfied: defusedxml in /usr/local/lib/python3.8/dist-packages (from nbconvert<6.0->notebook>=4.4.1->widgetsnbextension~=3.6.0->ipywidgets<9,>=7.6.0->ipympl->aif360[all]) (0.7.1)\n",
            "Requirement already satisfied: pandocfilters>=1.4.1 in /usr/local/lib/python3.8/dist-packages (from nbconvert<6.0->notebook>=4.4.1->widgetsnbextension~=3.6.0->ipywidgets<9,>=7.6.0->ipympl->aif360[all]) (1.5.0)\n",
            "Requirement already satisfied: fastjsonschema in /usr/local/lib/python3.8/dist-packages (from nbformat->notebook>=4.4.1->widgetsnbextension~=3.6.0->ipywidgets<9,>=7.6.0->ipympl->aif360[all]) (2.16.2)\n",
            "Requirement already satisfied: jsonschema>=2.6 in /usr/local/lib/python3.8/dist-packages (from nbformat->notebook>=4.4.1->widgetsnbextension~=3.6.0->ipywidgets<9,>=7.6.0->ipympl->aif360[all]) (4.3.3)\n",
            "Requirement already satisfied: pyrsistent!=0.17.0,!=0.17.1,!=0.17.2,>=0.14.0 in /usr/local/lib/python3.8/dist-packages (from jsonschema>=2.6->nbformat->notebook>=4.4.1->widgetsnbextension~=3.6.0->ipywidgets<9,>=7.6.0->ipympl->aif360[all]) (0.19.2)\n",
            "Requirement already satisfied: importlib-resources>=1.4.0 in /usr/local/lib/python3.8/dist-packages (from jsonschema>=2.6->nbformat->notebook>=4.4.1->widgetsnbextension~=3.6.0->ipywidgets<9,>=7.6.0->ipympl->aif360[all]) (5.10.0)\n",
            "Requirement already satisfied: ptyprocess in /usr/local/lib/python3.8/dist-packages (from terminado>=0.8.1->notebook>=4.4.1->widgetsnbextension~=3.6.0->ipywidgets<9,>=7.6.0->ipympl->aif360[all]) (0.7.0)\n",
            "Requirement already satisfied: webencodings in /usr/local/lib/python3.8/dist-packages (from bleach->nbconvert<6.0->notebook>=4.4.1->widgetsnbextension~=3.6.0->ipywidgets<9,>=7.6.0->ipympl->aif360[all]) (0.5.1)\n",
            "Requirement already satisfied: jupyter-console in /usr/local/lib/python3.8/dist-packages (from jupyter->aif360[all]) (6.1.0)\n",
            "Collecting qtconsole\n",
            "  Downloading qtconsole-5.4.0-py3-none-any.whl (121 kB)\n",
            "\u001b[K     |████████████████████████████████| 121 kB 51.8 MB/s \n",
            "\u001b[?25hRequirement already satisfied: scikit-image>=0.12 in /usr/local/lib/python3.8/dist-packages (from lime->aif360[all]) (0.18.3)\n",
            "Requirement already satisfied: tifffile>=2019.7.26 in /usr/local/lib/python3.8/dist-packages (from scikit-image>=0.12->lime->aif360[all]) (2022.10.10)\n",
            "Requirement already satisfied: PyWavelets>=1.1.1 in /usr/local/lib/python3.8/dist-packages (from scikit-image>=0.12->lime->aif360[all]) (1.4.1)\n",
            "Requirement already satisfied: imageio>=2.3.0 in /usr/local/lib/python3.8/dist-packages (from scikit-image>=0.12->lime->aif360[all]) (2.9.0)\n",
            "Collecting qtpy>=2.0.1\n",
            "  Downloading QtPy-2.3.0-py3-none-any.whl (83 kB)\n",
            "\u001b[K     |████████████████████████████████| 83 kB 1.3 MB/s \n",
            "\u001b[?25hRequirement already satisfied: tzlocal in /usr/local/lib/python3.8/dist-packages (from rpy2->aif360[all]) (1.5.1)\n",
            "Requirement already satisfied: sphinxcontrib-serializinghtml in /usr/local/lib/python3.8/dist-packages (from sphinxcontrib-websupport->sphinx<2->aif360[all]) (1.1.5)\n",
            "Collecting shap\n",
            "  Downloading shap-0.41.0-cp38-cp38-manylinux_2_12_x86_64.manylinux2010_x86_64.whl (575 kB)\n",
            "\u001b[K     |████████████████████████████████| 575 kB 56.2 MB/s \n",
            "\u001b[?25hCollecting memory-profiler\n",
            "  Downloading memory_profiler-0.61.0-py3-none-any.whl (31 kB)\n",
            "Requirement already satisfied: psutil in /usr/local/lib/python3.8/dist-packages (from memory-profiler->tempeh->aif360[all]) (5.4.8)\n",
            "Requirement already satisfied: cloudpickle in /usr/local/lib/python3.8/dist-packages (from shap->tempeh->aif360[all]) (1.5.0)\n",
            "Collecting slicer==0.0.7\n",
            "  Downloading slicer-0.0.7-py3-none-any.whl (14 kB)\n",
            "Requirement already satisfied: numba in /usr/local/lib/python3.8/dist-packages (from shap->tempeh->aif360[all]) (0.56.4)\n",
            "Requirement already satisfied: llvmlite<0.40,>=0.39.0dev0 in /usr/local/lib/python3.8/dist-packages (from numba->shap->tempeh->aif360[all]) (0.39.1)\n",
            "Building wheels for collected packages: BlackBoxAuditing, cairocffi, lime\n",
            "  Building wheel for BlackBoxAuditing (setup.py) ... \u001b[?25l\u001b[?25hdone\n",
            "  Created wheel for BlackBoxAuditing: filename=BlackBoxAuditing-0.1.54-py2.py3-none-any.whl size=1394770 sha256=48f99bf77389e481db77de0999a8454f84f63070cb38b11bb20a9cef08f67569\n",
            "  Stored in directory: /root/.cache/pip/wheels/e3/77/36/a32ec1b04c2ebe2c45e88d42f33f22f987e76aad3f297b681e\n",
            "  Building wheel for cairocffi (setup.py) ... \u001b[?25l\u001b[?25hdone\n",
            "  Created wheel for cairocffi: filename=cairocffi-1.4.0-py3-none-any.whl size=88775 sha256=8f4e21cd13ecd81c4b1be6c601a19b1c6d9126c272e9cc3e4531584d01b3217c\n",
            "  Stored in directory: /root/.cache/pip/wheels/01/a9/c0/5c05f9dd73c21f9a7716690642823cdba55594d17a9bd69daf\n",
            "  Building wheel for lime (setup.py) ... \u001b[?25l\u001b[?25hdone\n",
            "  Created wheel for lime: filename=lime-0.2.0.1-py3-none-any.whl size=283857 sha256=f16808a4671e90dd0e544bbadfd267b13831328fa5b07ad9d19d50d3743e0c60\n",
            "  Stored in directory: /root/.cache/pip/wheels/e6/a6/20/cc1e293fcdb67ede666fed293cb895395e7ecceb4467779546\n",
            "Successfully built BlackBoxAuditing cairocffi lime\n",
            "Installing collected packages: jedi, fonttools, contourpy, texttable, slicer, qtpy, matplotlib, shap, qtconsole, memory-profiler, igraph, cairocffi, tempeh, sphinx-rtd-theme, lime, jupyter, ipympl, fairlearn, BlackBoxAuditing, aif360, adversarial-robustness-toolbox\n",
            "  Attempting uninstall: matplotlib\n",
            "    Found existing installation: matplotlib 3.2.2\n",
            "    Uninstalling matplotlib-3.2.2:\n",
            "      Successfully uninstalled matplotlib-3.2.2\n",
            "Successfully installed BlackBoxAuditing-0.1.54 adversarial-robustness-toolbox-1.12.2 aif360-0.5.0 cairocffi-1.4.0 contourpy-1.0.6 fairlearn-0.8.0 fonttools-4.38.0 igraph-0.10.2 ipympl-0.9.2 jedi-0.18.2 jupyter-1.0.0 lime-0.2.0.1 matplotlib-3.6.2 memory-profiler-0.61.0 qtconsole-5.4.0 qtpy-2.3.0 shap-0.41.0 slicer-0.0.7 sphinx-rtd-theme-1.1.1 tempeh-0.1.12 texttable-1.6.7\n"
          ]
        },
        {
          "output_type": "display_data",
          "data": {
            "application/vnd.colab-display-data+json": {
              "pip_warning": {
                "packages": [
                  "matplotlib",
                  "mpl_toolkits"
                ]
              }
            }
          },
          "metadata": {}
        }
      ]
    },
    {
      "cell_type": "code",
      "source": [
        "pip install matplotlib==3.1.3"
      ],
      "metadata": {
        "colab": {
          "base_uri": "https://localhost:8080/",
          "height": 437
        },
        "collapsed": true,
        "id": "BShifq7xhH0F",
        "outputId": "dbfb0751-5a5c-4481-e130-d0c088dafcf9"
      },
      "execution_count": null,
      "outputs": [
        {
          "output_type": "stream",
          "name": "stdout",
          "text": [
            "Looking in indexes: https://pypi.org/simple, https://us-python.pkg.dev/colab-wheels/public/simple/\n",
            "Collecting matplotlib==3.1.3\n",
            "  Downloading matplotlib-3.1.3-cp38-cp38-manylinux1_x86_64.whl (13.1 MB)\n",
            "\u001b[K     |████████████████████████████████| 13.1 MB 5.0 MB/s \n",
            "\u001b[?25hRequirement already satisfied: python-dateutil>=2.1 in /usr/local/lib/python3.8/dist-packages (from matplotlib==3.1.3) (2.8.2)\n",
            "Requirement already satisfied: pyparsing!=2.0.4,!=2.1.2,!=2.1.6,>=2.0.1 in /usr/local/lib/python3.8/dist-packages (from matplotlib==3.1.3) (3.0.9)\n",
            "Requirement already satisfied: cycler>=0.10 in /usr/local/lib/python3.8/dist-packages (from matplotlib==3.1.3) (0.11.0)\n",
            "Requirement already satisfied: numpy>=1.11 in /usr/local/lib/python3.8/dist-packages (from matplotlib==3.1.3) (1.21.6)\n",
            "Requirement already satisfied: kiwisolver>=1.0.1 in /usr/local/lib/python3.8/dist-packages (from matplotlib==3.1.3) (1.4.4)\n",
            "Requirement already satisfied: six>=1.5 in /usr/local/lib/python3.8/dist-packages (from python-dateutil>=2.1->matplotlib==3.1.3) (1.15.0)\n",
            "Installing collected packages: matplotlib\n",
            "  Attempting uninstall: matplotlib\n",
            "    Found existing installation: matplotlib 3.6.2\n",
            "    Uninstalling matplotlib-3.6.2:\n",
            "      Successfully uninstalled matplotlib-3.6.2\n",
            "\u001b[31mERROR: pip's dependency resolver does not currently take into account all the packages that are installed. This behaviour is the source of the following dependency conflicts.\n",
            "ipympl 0.9.2 requires matplotlib<4,>=3.4.0, but you have matplotlib 3.1.3 which is incompatible.\u001b[0m\n",
            "Successfully installed matplotlib-3.1.3\n"
          ]
        },
        {
          "output_type": "display_data",
          "data": {
            "application/vnd.colab-display-data+json": {
              "pip_warning": {
                "packages": [
                  "matplotlib",
                  "mpl_toolkits"
                ]
              }
            }
          },
          "metadata": {}
        }
      ]
    },
    {
      "cell_type": "code",
      "source": [
        "# check the version of Python you are using\n",
        "!python --version"
      ],
      "metadata": {
        "colab": {
          "base_uri": "https://localhost:8080/"
        },
        "id": "Q0Iy273Li1Gz",
        "outputId": "aec36c13-5da3-43bf-ff78-e2b173c7a71b"
      },
      "execution_count": null,
      "outputs": [
        {
          "output_type": "stream",
          "name": "stdout",
          "text": [
            "Python 3.8.16\n"
          ]
        }
      ]
    },
    {
      "cell_type": "code",
      "source": [
        "# check your currnet location\n",
        "!pwd"
      ],
      "metadata": {
        "colab": {
          "base_uri": "https://localhost:8080/"
        },
        "id": "aquPwhzveWKR",
        "outputId": "c52de2b7-b966-401d-bc9e-27c98a30e40e"
      },
      "execution_count": null,
      "outputs": [
        {
          "output_type": "stream",
          "name": "stdout",
          "text": [
            "/content\n"
          ]
        }
      ]
    },
    {
      "cell_type": "code",
      "source": [
        "# go to the folder where aif360 stores data\n",
        "!cd '/usr/local/lib/python3.8/dist-packages/aif360/data/raw'"
      ],
      "metadata": {
        "id": "BUnDUlQWc9iP"
      },
      "execution_count": null,
      "outputs": []
    },
    {
      "cell_type": "code",
      "source": [
        "ls"
      ],
      "metadata": {
        "colab": {
          "base_uri": "https://localhost:8080/"
        },
        "id": "DTl-wg9XeF_t",
        "outputId": "444ec339-d53e-42a6-def4-09eeda2b394c"
      },
      "execution_count": null,
      "outputs": [
        {
          "output_type": "stream",
          "name": "stdout",
          "text": [
            "\u001b[0m\u001b[01;34msample_data\u001b[0m/\n"
          ]
        }
      ]
    },
    {
      "cell_type": "markdown",
      "source": [
        "**Please download the following files:**\n",
        "\n",
        "Adult:\n",
        "\n",
        "\thttps://archive.ics.uci.edu/ml/machine-learning-databases/adult/adult.data \n",
        "\thttps://archive.ics.uci.edu/ml/machine-learning-databases/adult/adult.test\n",
        "\thttps://archive.ics.uci.edu/ml/machine-learning-databases/adult/adult.names\n",
        "\n",
        "\n",
        "\n",
        "and place them, as-is, in the folder:\n",
        "\n",
        "\n",
        "\t/usr/local/lib/python3.7/dist-packages/aif360/data/raw/adult\n",
        "\n",
        "Note, that uploaded files will be in the folder only during runtime"
      ],
      "metadata": {
        "id": "oyUu316YvJo3"
      }
    },
    {
      "cell_type": "code",
      "source": [
        "cd '/usr/local/lib/python3.8/dist-packages/aif360/data/raw/adult'"
      ],
      "metadata": {
        "colab": {
          "base_uri": "https://localhost:8080/"
        },
        "id": "UtB1SeRurGp9",
        "outputId": "031eb4c0-bd02-4d23-e97c-42634adfa6e8"
      },
      "execution_count": null,
      "outputs": [
        {
          "output_type": "stream",
          "name": "stdout",
          "text": [
            "/usr/local/lib/python3.8/dist-packages/aif360/data/raw/adult\n"
          ]
        }
      ]
    },
    {
      "cell_type": "code",
      "source": [
        "ls"
      ],
      "metadata": {
        "colab": {
          "base_uri": "https://localhost:8080/"
        },
        "id": "UuiXaqzKrUSO",
        "outputId": "02fe38bb-581e-48cc-fa7c-0d9f7ef465a6"
      },
      "execution_count": null,
      "outputs": [
        {
          "output_type": "stream",
          "name": "stdout",
          "text": [
            "README.md\n"
          ]
        }
      ]
    },
    {
      "cell_type": "code",
      "source": [
        "from google.colab import files\n",
        "uploaded = files.upload()"
      ],
      "metadata": {
        "colab": {
          "base_uri": "https://localhost:8080/",
          "height": 142
        },
        "id": "8KYkHeCrrvtO",
        "outputId": "c0bef6ec-0d44-499c-fed6-af08f05b2c20"
      },
      "execution_count": null,
      "outputs": [
        {
          "output_type": "display_data",
          "data": {
            "text/plain": [
              "<IPython.core.display.HTML object>"
            ],
            "text/html": [
              "\n",
              "     <input type=\"file\" id=\"files-b199336a-e501-41eb-8b23-fef8dcad02ff\" name=\"files[]\" multiple disabled\n",
              "        style=\"border:none\" />\n",
              "     <output id=\"result-b199336a-e501-41eb-8b23-fef8dcad02ff\">\n",
              "      Upload widget is only available when the cell has been executed in the\n",
              "      current browser session. Please rerun this cell to enable.\n",
              "      </output>\n",
              "      <script>// Copyright 2017 Google LLC\n",
              "//\n",
              "// Licensed under the Apache License, Version 2.0 (the \"License\");\n",
              "// you may not use this file except in compliance with the License.\n",
              "// You may obtain a copy of the License at\n",
              "//\n",
              "//      http://www.apache.org/licenses/LICENSE-2.0\n",
              "//\n",
              "// Unless required by applicable law or agreed to in writing, software\n",
              "// distributed under the License is distributed on an \"AS IS\" BASIS,\n",
              "// WITHOUT WARRANTIES OR CONDITIONS OF ANY KIND, either express or implied.\n",
              "// See the License for the specific language governing permissions and\n",
              "// limitations under the License.\n",
              "\n",
              "/**\n",
              " * @fileoverview Helpers for google.colab Python module.\n",
              " */\n",
              "(function(scope) {\n",
              "function span(text, styleAttributes = {}) {\n",
              "  const element = document.createElement('span');\n",
              "  element.textContent = text;\n",
              "  for (const key of Object.keys(styleAttributes)) {\n",
              "    element.style[key] = styleAttributes[key];\n",
              "  }\n",
              "  return element;\n",
              "}\n",
              "\n",
              "// Max number of bytes which will be uploaded at a time.\n",
              "const MAX_PAYLOAD_SIZE = 100 * 1024;\n",
              "\n",
              "function _uploadFiles(inputId, outputId) {\n",
              "  const steps = uploadFilesStep(inputId, outputId);\n",
              "  const outputElement = document.getElementById(outputId);\n",
              "  // Cache steps on the outputElement to make it available for the next call\n",
              "  // to uploadFilesContinue from Python.\n",
              "  outputElement.steps = steps;\n",
              "\n",
              "  return _uploadFilesContinue(outputId);\n",
              "}\n",
              "\n",
              "// This is roughly an async generator (not supported in the browser yet),\n",
              "// where there are multiple asynchronous steps and the Python side is going\n",
              "// to poll for completion of each step.\n",
              "// This uses a Promise to block the python side on completion of each step,\n",
              "// then passes the result of the previous step as the input to the next step.\n",
              "function _uploadFilesContinue(outputId) {\n",
              "  const outputElement = document.getElementById(outputId);\n",
              "  const steps = outputElement.steps;\n",
              "\n",
              "  const next = steps.next(outputElement.lastPromiseValue);\n",
              "  return Promise.resolve(next.value.promise).then((value) => {\n",
              "    // Cache the last promise value to make it available to the next\n",
              "    // step of the generator.\n",
              "    outputElement.lastPromiseValue = value;\n",
              "    return next.value.response;\n",
              "  });\n",
              "}\n",
              "\n",
              "/**\n",
              " * Generator function which is called between each async step of the upload\n",
              " * process.\n",
              " * @param {string} inputId Element ID of the input file picker element.\n",
              " * @param {string} outputId Element ID of the output display.\n",
              " * @return {!Iterable<!Object>} Iterable of next steps.\n",
              " */\n",
              "function* uploadFilesStep(inputId, outputId) {\n",
              "  const inputElement = document.getElementById(inputId);\n",
              "  inputElement.disabled = false;\n",
              "\n",
              "  const outputElement = document.getElementById(outputId);\n",
              "  outputElement.innerHTML = '';\n",
              "\n",
              "  const pickedPromise = new Promise((resolve) => {\n",
              "    inputElement.addEventListener('change', (e) => {\n",
              "      resolve(e.target.files);\n",
              "    });\n",
              "  });\n",
              "\n",
              "  const cancel = document.createElement('button');\n",
              "  inputElement.parentElement.appendChild(cancel);\n",
              "  cancel.textContent = 'Cancel upload';\n",
              "  const cancelPromise = new Promise((resolve) => {\n",
              "    cancel.onclick = () => {\n",
              "      resolve(null);\n",
              "    };\n",
              "  });\n",
              "\n",
              "  // Wait for the user to pick the files.\n",
              "  const files = yield {\n",
              "    promise: Promise.race([pickedPromise, cancelPromise]),\n",
              "    response: {\n",
              "      action: 'starting',\n",
              "    }\n",
              "  };\n",
              "\n",
              "  cancel.remove();\n",
              "\n",
              "  // Disable the input element since further picks are not allowed.\n",
              "  inputElement.disabled = true;\n",
              "\n",
              "  if (!files) {\n",
              "    return {\n",
              "      response: {\n",
              "        action: 'complete',\n",
              "      }\n",
              "    };\n",
              "  }\n",
              "\n",
              "  for (const file of files) {\n",
              "    const li = document.createElement('li');\n",
              "    li.append(span(file.name, {fontWeight: 'bold'}));\n",
              "    li.append(span(\n",
              "        `(${file.type || 'n/a'}) - ${file.size} bytes, ` +\n",
              "        `last modified: ${\n",
              "            file.lastModifiedDate ? file.lastModifiedDate.toLocaleDateString() :\n",
              "                                    'n/a'} - `));\n",
              "    const percent = span('0% done');\n",
              "    li.appendChild(percent);\n",
              "\n",
              "    outputElement.appendChild(li);\n",
              "\n",
              "    const fileDataPromise = new Promise((resolve) => {\n",
              "      const reader = new FileReader();\n",
              "      reader.onload = (e) => {\n",
              "        resolve(e.target.result);\n",
              "      };\n",
              "      reader.readAsArrayBuffer(file);\n",
              "    });\n",
              "    // Wait for the data to be ready.\n",
              "    let fileData = yield {\n",
              "      promise: fileDataPromise,\n",
              "      response: {\n",
              "        action: 'continue',\n",
              "      }\n",
              "    };\n",
              "\n",
              "    // Use a chunked sending to avoid message size limits. See b/62115660.\n",
              "    let position = 0;\n",
              "    do {\n",
              "      const length = Math.min(fileData.byteLength - position, MAX_PAYLOAD_SIZE);\n",
              "      const chunk = new Uint8Array(fileData, position, length);\n",
              "      position += length;\n",
              "\n",
              "      const base64 = btoa(String.fromCharCode.apply(null, chunk));\n",
              "      yield {\n",
              "        response: {\n",
              "          action: 'append',\n",
              "          file: file.name,\n",
              "          data: base64,\n",
              "        },\n",
              "      };\n",
              "\n",
              "      let percentDone = fileData.byteLength === 0 ?\n",
              "          100 :\n",
              "          Math.round((position / fileData.byteLength) * 100);\n",
              "      percent.textContent = `${percentDone}% done`;\n",
              "\n",
              "    } while (position < fileData.byteLength);\n",
              "  }\n",
              "\n",
              "  // All done.\n",
              "  yield {\n",
              "    response: {\n",
              "      action: 'complete',\n",
              "    }\n",
              "  };\n",
              "}\n",
              "\n",
              "scope.google = scope.google || {};\n",
              "scope.google.colab = scope.google.colab || {};\n",
              "scope.google.colab._files = {\n",
              "  _uploadFiles,\n",
              "  _uploadFilesContinue,\n",
              "};\n",
              "})(self);\n",
              "</script> "
            ]
          },
          "metadata": {}
        },
        {
          "output_type": "stream",
          "name": "stdout",
          "text": [
            "Saving adult.names to adult.names\n",
            "Saving adult.test to adult.test\n",
            "Saving adult.data to adult.data\n"
          ]
        }
      ]
    },
    {
      "cell_type": "code",
      "source": [
        "# check if the datasetst are uploaded\n",
        "!ls"
      ],
      "metadata": {
        "colab": {
          "base_uri": "https://localhost:8080/"
        },
        "id": "7EU9htl8W8zv",
        "outputId": "f82b01c1-8b9a-4a4a-dcac-b53714758144"
      },
      "execution_count": null,
      "outputs": [
        {
          "output_type": "stream",
          "name": "stdout",
          "text": [
            "adult.data  adult.names  adult.test  README.md\n"
          ]
        }
      ]
    },
    {
      "cell_type": "markdown",
      "source": [
        "## **Imports And Define Helper Functions**"
      ],
      "metadata": {
        "id": "dzBtfbXM1gO6"
      }
    },
    {
      "cell_type": "code",
      "source": [
        "import sys\n",
        "sys.path.insert(0, '../')\n",
        "\n",
        "%matplotlib inline\n",
        "import matplotlib.pyplot as plt\n",
        "import numpy as np\n",
        "import pandas as pd\n",
        "from IPython.display import Markdown, display\n",
        "\n",
        "from aif360.datasets import MEPSDataset21\n",
        "\n",
        "# Fairness metrics\n",
        "from aif360.metrics import BinaryLabelDatasetMetric\n",
        "from aif360.metrics import ClassificationMetric\n",
        "\n",
        "# Explainers\n",
        "from aif360.explainers import MetricTextExplainer\n",
        "\n",
        "# Scalers\n",
        "from sklearn.preprocessing import StandardScaler\n",
        "\n",
        "# Classifiers\n",
        "from sklearn.linear_model import LogisticRegression\n",
        "from sklearn.pipeline import make_pipeline\n",
        "\n",
        "# # Bias mitigation techniques\n",
        "from aif360.algorithms.preprocessing import Reweighing\n",
        "from aif360.algorithms.inprocessing import PrejudiceRemover\n",
        "\n",
        "# # LIME\n",
        "from aif360.datasets.lime_encoder import LimeEncoder\n",
        "import lime\n",
        "from lime.lime_tabular import LimeTabularExplainer\n",
        "\n",
        "\n",
        "from aif360.metrics import BinaryLabelDatasetMetric\n",
        "\n",
        "from aif360.algorithms.preprocessing.optim_preproc import OptimPreproc\n",
        "from aif360.algorithms.preprocessing.optim_preproc_helpers.data_preproc_functions\\\n",
        "            import load_preproc_data_adult,load_preproc_data_compas\n",
        "from aif360.algorithms.preprocessing.optim_preproc_helpers.distortion_functions\\\n",
        "            import get_distortion_adult, get_distortion_compas\n",
        "from aif360.algorithms.preprocessing.optim_preproc_helpers.opt_tools import OptTools\n",
        "\n",
        "from IPython.display import Markdown, display\n",
        "\n",
        "np.random.seed(1)\n",
        "\n",
        "def describe(train=None, val=None, test=None):\n",
        "    if train is not None:\n",
        "        display(Markdown(\"#### Training Dataset shape\"))\n",
        "        print(train.features.shape)\n",
        "    if val is not None:\n",
        "        display(Markdown(\"#### Validation Dataset shape\"))\n",
        "        print(val.features.shape)\n",
        "    display(Markdown(\"#### Test Dataset shape\"))\n",
        "    print(test.features.shape)\n",
        "    display(Markdown(\"#### Favorable and unfavorable labels\"))\n",
        "    print(test.favorable_label, test.unfavorable_label)\n",
        "    display(Markdown(\"#### Protected attribute names\"))\n",
        "    print(test.protected_attribute_names)\n",
        "    display(Markdown(\"#### Privileged and unprivileged protected attribute values\"))\n",
        "    print(test.privileged_protected_attributes, \n",
        "          test.unprivileged_protected_attributes)\n",
        "    display(Markdown(\"#### Dataset feature names\"))\n",
        "    print(test.feature_names)\n",
        "\n",
        "\n",
        "def describe_metrics(metrics, thresh_arr):\n",
        "    best_ind = np.argmax(metrics['bal_acc'])\n",
        "    print(\"Threshold corresponding to Best balanced accuracy: {:6.4f}\".format(thresh_arr[best_ind]))\n",
        "    print(\"Best balanced accuracy: {:6.4f}\".format(metrics['bal_acc'][best_ind]))\n",
        "#     disp_imp_at_best_ind = np.abs(1 - np.array(metrics['disp_imp']))[best_ind]\n",
        "    disp_imp_at_best_ind = metrics['disp_imp'][best_ind]\n",
        "    print(\"Corresponding disparate impact value: {:6.4f}\".format(disp_imp_at_best_ind))\n",
        "    print(\"Corresponding average odds difference value: {:6.4f}\".format(metrics['avg_odds_diff'][best_ind]))\n",
        "    print(\"Corresponding statistical parity difference value: {:6.4f}\".format(metrics['stat_par_diff'][best_ind]))\n",
        "    print(\"Corresponding equal opportunity difference value: {:6.4f}\".format(metrics['eq_opp_diff'][best_ind]))\n",
        "\n",
        "from collections import defaultdict\n",
        "\n",
        "def test(dataset, model, thresh_arr):\n",
        "    try:\n",
        "        # sklearn classifier\n",
        "        y_val_pred_prob = model.predict_proba(dataset.features)\n",
        "        pos_ind = np.where(model.classes_ == dataset.favorable_label)[0][0]\n",
        "    except AttributeError:\n",
        "        # aif360 inprocessing algorithm\n",
        "        y_val_pred_prob = model.predict(dataset).scores\n",
        "        pos_ind = 0\n",
        "    \n",
        "    metric_arrs = defaultdict(list)\n",
        "    for thresh in thresh_arr:\n",
        "        y_val_pred = (y_val_pred_prob[:, pos_ind] > thresh).astype(np.float64)\n",
        "\n",
        "        dataset_pred = dataset.copy()\n",
        "        dataset_pred.labels = y_val_pred\n",
        "        metric = ClassificationMetric(\n",
        "                dataset, dataset_pred,\n",
        "                unprivileged_groups=unprivileged_groups,\n",
        "                privileged_groups=privileged_groups)\n",
        "\n",
        "        metric_arrs['bal_acc'].append((metric.true_positive_rate()\n",
        "                                     + metric.true_negative_rate()) / 2)\n",
        "        metric_arrs['avg_odds_diff'].append(metric.average_odds_difference())\n",
        "        metric_arrs['disp_imp'].append(metric.disparate_impact())\n",
        "        metric_arrs['stat_par_diff'].append(metric.statistical_parity_difference())\n",
        "        metric_arrs['eq_opp_diff'].append(metric.equal_opportunity_difference())\n",
        "        metric_arrs['theil_ind'].append(metric.theil_index())\n",
        "    \n",
        "    return metric_arrs\n",
        "\n",
        "# functions for LIME predictor\n",
        "def s_predict_fn(x):\n",
        "    return model.predict_proba(lime_data.inverse_transform(x))\n",
        "\n",
        "\n",
        "def show_explanation(ind):\n",
        "    exp = explainer.explain_instance(s_test[ind], s_predict_fn, num_features=10)\n",
        "    print(\"Actual label: \" + str(test_dataset.labels[ind]))\n",
        "    exp.as_pyplot_figure()\n",
        "    plt.show()\n"
      ],
      "metadata": {
        "id": "T3pt-lQixn8W"
      },
      "execution_count": null,
      "outputs": []
    },
    {
      "cell_type": "markdown",
      "source": [
        "## **About Adult Dataset**\n",
        "\n",
        "Extraction was done by Barry Becker from the 1994 Census database.\n",
        "\n",
        "A set of reasonably clean records was extracted using the following \n",
        "\n",
        "conditions: ((AAGE>16) && (AGI>100) && (AFNLWGT>1)&& (HRSWK>0))\n",
        "\n",
        "Prediction task is to determine whether a person makes over 50K a year."
      ],
      "metadata": {
        "id": "vIrc29noPKVo"
      }
    },
    {
      "cell_type": "markdown",
      "source": [
        "# Load data & create splits for \n",
        "# learning/validating/testing model\n",
        "\n",
        "We will be using 'race' as a sensitive attribute"
      ],
      "metadata": {
        "id": "-_UyhWBOo6_b"
      }
    },
    {
      "cell_type": "code",
      "source": [
        "#load the data set and indicate the sensitive attribute\n",
        "\n",
        "AdultDataset = load_preproc_data_adult(['race'])\n",
        "\n",
        "privileged_groups = [{'race': 1}] # White\n",
        "unprivileged_groups = [{'race': 0}] # Black\n",
        "\n",
        "\n",
        "(adult_train,\n",
        " adult_val,\n",
        " adult_test) = AdultDataset.split([0.5, 0.8], shuffle=True)\n",
        "\n",
        "sens_ind = 0\n",
        "sens_attr = adult_train.protected_attribute_names[sens_ind]\n",
        "\n",
        "unprivileged_groups = [{sens_attr: v} for v in\n",
        "                       adult_train.unprivileged_protected_attributes[sens_ind]]\n",
        "privileged_groups = [{sens_attr: v} for v in\n",
        "                     adult_train.privileged_protected_attributes[sens_ind]]"
      ],
      "metadata": {
        "id": "75Alj1yHmwIx"
      },
      "execution_count": null,
      "outputs": []
    },
    {
      "cell_type": "code",
      "source": [
        "describe(adult_train, adult_val, adult_test)"
      ],
      "metadata": {
        "colab": {
          "base_uri": "https://localhost:8080/",
          "height": 438
        },
        "id": "tP9VE1obd0sk",
        "outputId": "ec5569da-c972-4c09-faf4-a4cb3d0a31f7"
      },
      "execution_count": null,
      "outputs": [
        {
          "output_type": "display_data",
          "data": {
            "text/plain": [
              "<IPython.core.display.Markdown object>"
            ],
            "text/markdown": "#### Training Dataset shape"
          },
          "metadata": {}
        },
        {
          "output_type": "stream",
          "name": "stdout",
          "text": [
            "(24421, 18)\n"
          ]
        },
        {
          "output_type": "display_data",
          "data": {
            "text/plain": [
              "<IPython.core.display.Markdown object>"
            ],
            "text/markdown": "#### Validation Dataset shape"
          },
          "metadata": {}
        },
        {
          "output_type": "stream",
          "name": "stdout",
          "text": [
            "(14652, 18)\n"
          ]
        },
        {
          "output_type": "display_data",
          "data": {
            "text/plain": [
              "<IPython.core.display.Markdown object>"
            ],
            "text/markdown": "#### Test Dataset shape"
          },
          "metadata": {}
        },
        {
          "output_type": "stream",
          "name": "stdout",
          "text": [
            "(9769, 18)\n"
          ]
        },
        {
          "output_type": "display_data",
          "data": {
            "text/plain": [
              "<IPython.core.display.Markdown object>"
            ],
            "text/markdown": "#### Favorable and unfavorable labels"
          },
          "metadata": {}
        },
        {
          "output_type": "stream",
          "name": "stdout",
          "text": [
            "1.0 0.0\n"
          ]
        },
        {
          "output_type": "display_data",
          "data": {
            "text/plain": [
              "<IPython.core.display.Markdown object>"
            ],
            "text/markdown": "#### Protected attribute names"
          },
          "metadata": {}
        },
        {
          "output_type": "stream",
          "name": "stdout",
          "text": [
            "['race']\n"
          ]
        },
        {
          "output_type": "display_data",
          "data": {
            "text/plain": [
              "<IPython.core.display.Markdown object>"
            ],
            "text/markdown": "#### Privileged and unprivileged protected attribute values"
          },
          "metadata": {}
        },
        {
          "output_type": "stream",
          "name": "stdout",
          "text": [
            "[array([1.])] [array([0.])]\n"
          ]
        },
        {
          "output_type": "display_data",
          "data": {
            "text/plain": [
              "<IPython.core.display.Markdown object>"
            ],
            "text/markdown": "#### Dataset feature names"
          },
          "metadata": {}
        },
        {
          "output_type": "stream",
          "name": "stdout",
          "text": [
            "['race', 'sex', 'Age (decade)=10', 'Age (decade)=20', 'Age (decade)=30', 'Age (decade)=40', 'Age (decade)=50', 'Age (decade)=60', 'Age (decade)=>=70', 'Education Years=6', 'Education Years=7', 'Education Years=8', 'Education Years=9', 'Education Years=10', 'Education Years=11', 'Education Years=12', 'Education Years=<6', 'Education Years=>12']\n"
          ]
        }
      ]
    },
    {
      "cell_type": "markdown",
      "source": [
        "## **Calculate Disparity Metrics on Original Training Data**"
      ],
      "metadata": {
        "id": "8TlXRx-M2FMc"
      }
    },
    {
      "cell_type": "code",
      "source": [
        "metric_adult_train = BinaryLabelDatasetMetric(\n",
        "        adult_train,\n",
        "        unprivileged_groups=unprivileged_groups,\n",
        "        privileged_groups=privileged_groups)\n",
        "explainer_adult_train = MetricTextExplainer(metric_adult_train)\n",
        "\n",
        "print(explainer_adult_train.disparate_impact())\n",
        "print(explainer_adult_train.statistical_parity_difference())"
      ],
      "metadata": {
        "colab": {
          "base_uri": "https://localhost:8080/"
        },
        "id": "az3JDRBtd8E9",
        "outputId": "6f9cdc9b-7dba-4394-9879-eed7a8447c64"
      },
      "execution_count": null,
      "outputs": [
        {
          "output_type": "stream",
          "name": "stdout",
          "text": [
            "Disparate impact (probability of favorable outcome for unprivileged instances / probability of favorable outcome for privileged instances): 0.6283123847672883\n",
            "Statistical parity difference (probability of favorable outcome for unprivileged instances - probability of favorable outcome for privileged instances): -0.09489212158688873\n"
          ]
        }
      ]
    },
    {
      "cell_type": "markdown",
      "source": [
        "The data is inbalanced with respect to sensitive attribute. Disparate impact is smaller than 1 indicating bias and Statistical Parity Difference is negative indicating discimination for unprivileged value of the sensitive attribute."
      ],
      "metadata": {
        "id": "6Ml1mg4nQr1t"
      }
    },
    {
      "cell_type": "markdown",
      "source": [
        "## **Learning a Logistic Regression (LR) classifier on original data**\n",
        "\n",
        "\n"
      ],
      "metadata": {
        "id": "I-B-BFjJljfd"
      }
    },
    {
      "cell_type": "code",
      "source": [
        "# train the Logistic Regression classifier\n",
        "dataset = adult_train\n",
        "model = make_pipeline(StandardScaler(),\n",
        "                      LogisticRegression(solver='liblinear', random_state=1))\n",
        "fit_params = {'logisticregression__sample_weight': dataset.instance_weights}\n",
        "\n",
        "lr_orig_adult = model.fit(dataset.features, dataset.labels.ravel(), **fit_params)"
      ],
      "metadata": {
        "id": "0JSjS0-seCUw"
      },
      "execution_count": null,
      "outputs": []
    },
    {
      "cell_type": "code",
      "source": [
        "# testing on validation data set and finding the best threshold for accuracy \n",
        "thresh_arr = np.linspace(0.01, 0.5, 50)\n",
        "val_metrics = test(dataset=adult_val,\n",
        "                   model=lr_orig_adult,\n",
        "                   thresh_arr=thresh_arr)\n",
        "lr_orig_best_ind = np.argmax(val_metrics['bal_acc'])"
      ],
      "metadata": {
        "id": "g_-7vuea1ciG"
      },
      "execution_count": null,
      "outputs": []
    },
    {
      "cell_type": "code",
      "source": [
        "# Testing on the test dataset using the best threshold\n",
        "\n",
        "lr_orig_metrics = test(dataset=adult_test,\n",
        "                       model=lr_orig_adult,thresh_arr=[thresh_arr[lr_orig_best_ind]])"
      ],
      "metadata": {
        "id": "FC3h-31ooOoJ"
      },
      "execution_count": null,
      "outputs": []
    },
    {
      "cell_type": "code",
      "source": [
        "# Calculating metrics on test data\n",
        "describe_metrics(lr_orig_metrics,thresh_arr)"
      ],
      "metadata": {
        "colab": {
          "base_uri": "https://localhost:8080/"
        },
        "id": "alCPHX8SoWnQ",
        "outputId": "76be05d2-1608-46e8-f066-b7b00bbadecc"
      },
      "execution_count": null,
      "outputs": [
        {
          "output_type": "stream",
          "name": "stdout",
          "text": [
            "Threshold corresponding to Best balanced accuracy: 0.0100\n",
            "Best balanced accuracy: 0.7474\n",
            "Corresponding disparate impact value: 0.4325\n",
            "Corresponding average odds difference value: -0.1878\n",
            "Corresponding statistical parity difference value: -0.2323\n",
            "Corresponding equal opportunity difference value: -0.2005\n"
          ]
        }
      ]
    },
    {
      "cell_type": "markdown",
      "source": [
        "For all the fairness metrics displayed above, except Disparate Impact, the value should be close to '0' for fairness.\n",
        "\n",
        "Disparate impact value should be close to '1'.\n"
      ],
      "metadata": {
        "id": "mH_d64eW_xuq"
      }
    },
    {
      "cell_type": "code",
      "source": [
        "# plotting the results\n",
        "\n",
        "orig_results = [lr_orig_metrics['bal_acc'][0], lr_orig_metrics['avg_odds_diff'][0],lr_orig_metrics['disp_imp'][0], lr_orig_metrics['stat_par_diff'][0], lr_orig_metrics['eq_opp_diff'][0]]\n",
        "metric_names = ['bal_acc','avg_odds_diff',  'disp_imp',  'stat_par_diff',  'eq_opp_diff' ]\n",
        "plt.bar(metric_names,orig_results)"
      ],
      "metadata": {
        "colab": {
          "base_uri": "https://localhost:8080/",
          "height": 283
        },
        "id": "WCv361Bkz0uO",
        "outputId": "05fb7cad-4bc0-4cc5-ab6a-c628522d74e2"
      },
      "execution_count": null,
      "outputs": [
        {
          "output_type": "execute_result",
          "data": {
            "text/plain": [
              "<BarContainer object of 5 artists>"
            ]
          },
          "metadata": {},
          "execution_count": 23
        },
        {
          "output_type": "display_data",
          "data": {
            "text/plain": [
              "<Figure size 432x288 with 1 Axes>"
            ],
            "image/png": "[encoded data removed]"
          },
          "metadata": {
            "needs_background": "light"
          }
        }
      ]
    },
    {
      "cell_type": "markdown",
      "source": [
        "## **Explaining with LIME**"
      ],
      "metadata": {
        "id": "bcN37l3YRX_t"
      }
    },
    {
      "cell_type": "code",
      "source": [
        "lime_data = LimeEncoder().fit(adult_train)\n",
        "\n",
        "s_train = lime_data.transform(adult_train.features)\n",
        "s_test = lime_data.transform(adult_test.features)\n",
        "\n",
        "test_dataset = adult_test\n",
        "\n",
        "\n",
        "explainer = LimeTabularExplainer(\n",
        "        s_train, class_names=lime_data.s_class_names, \n",
        "        feature_names=lime_data.s_feature_names,\n",
        "        categorical_features=lime_data.s_categorical_features, \n",
        "        categorical_names=lime_data.s_categorical_names, \n",
        "        kernel_width=3, verbose=False, discretize_continuous=True)"
      ],
      "metadata": {
        "id": "jrE_DPBZRNcq"
      },
      "execution_count": null,
      "outputs": []
    },
    {
      "cell_type": "code",
      "source": [
        "\n",
        "show_explanation(0)"
      ],
      "metadata": {
        "colab": {
          "base_uri": "https://localhost:8080/",
          "height": 298
        },
        "id": "0_lx-P-SRlHL",
        "outputId": "5c7f72d0-09ed-468b-f317-398065cc3739"
      },
      "execution_count": null,
      "outputs": [
        {
          "output_type": "stream",
          "name": "stdout",
          "text": [
            "Actual label: [0.]\n"
          ]
        },
        {
          "output_type": "display_data",
          "data": {
            "text/plain": [
              "<Figure size 432x288 with 1 Axes>"
            ],
            "image/png": "[encoded data removed]"
          },
          "metadata": {
            "needs_background": "light"
          }
        }
      ]
    },
    {
      "cell_type": "markdown",
      "source": [
        "## **Bias mitigation using pre-processing technique - Reweighing**"
      ],
      "metadata": {
        "id": "KDwah-JDAFeg"
      }
    },
    {
      "cell_type": "code",
      "source": [
        "# transforming the dataset\n",
        "RW = Reweighing(unprivileged_groups=unprivileged_groups,\n",
        "                privileged_groups=privileged_groups)\n",
        "dataset_transf_adult_train = RW.fit_transform(adult_train)\n",
        "\n",
        "\n",
        "#calculating metrics for transformed data\n",
        "\n",
        "metric_transf_adult_train = BinaryLabelDatasetMetric(\n",
        "        dataset_transf_adult_train,\n",
        "        unprivileged_groups=unprivileged_groups,\n",
        "        privileged_groups=privileged_groups)\n",
        "explainer_transf_adult_train = MetricTextExplainer(metric_transf_adult_train)\n",
        "\n",
        "print(explainer_transf_adult_train.disparate_impact())\n",
        "print(explainer_transf_adult_train.statistical_parity_difference())\n",
        "\n"
      ],
      "metadata": {
        "colab": {
          "base_uri": "https://localhost:8080/"
        },
        "id": "9CkyBA-5AGoO",
        "outputId": "d0e2468b-5733-44da-b309-bdd67757f566"
      },
      "execution_count": null,
      "outputs": [
        {
          "output_type": "stream",
          "name": "stdout",
          "text": [
            "Disparate impact (probability of favorable outcome for unprivileged instances / probability of favorable outcome for privileged instances): 0.9999999999999999\n",
            "Statistical parity difference (probability of favorable outcome for unprivileged instances - probability of favorable outcome for privileged instances): -2.7755575615628914e-17\n"
          ]
        }
      ]
    },
    {
      "cell_type": "markdown",
      "source": [
        "## **Learning a Logistic Regression (LR) classifier on data transformed by reweighing**"
      ],
      "metadata": {
        "id": "1hn7fbuRBUU4"
      }
    },
    {
      "cell_type": "code",
      "source": [
        "dataset = dataset_transf_adult_train\n",
        "model = make_pipeline(StandardScaler(),\n",
        "                      LogisticRegression(solver='liblinear', random_state=1))\n",
        "fit_params = {'logisticregression__sample_weight': dataset.instance_weights}\n",
        "lr_transf_adult = model.fit(dataset.features, dataset.labels.ravel(), **fit_params)"
      ],
      "metadata": {
        "id": "wW4NkuBH3zpc"
      },
      "execution_count": null,
      "outputs": []
    },
    {
      "cell_type": "code",
      "source": [
        "# testing on validation data set and finding the best threshold for accuracy \n",
        "thresh_arr = np.linspace(0.01, 0.5, 50)\n",
        "val_metrics = test(dataset=adult_val,\n",
        "                   model=lr_transf_adult,\n",
        "                   thresh_arr=thresh_arr)\n",
        "lr_transf_best_ind = np.argmax(val_metrics['bal_acc'])"
      ],
      "metadata": {
        "id": "8tAbJtL03BdC"
      },
      "execution_count": null,
      "outputs": []
    },
    {
      "cell_type": "code",
      "source": [
        "# testing on test dataset\n",
        "\n",
        "lr_transf_metrics = test(dataset=adult_test,\n",
        "                         model=lr_transf_adult,\n",
        "                         thresh_arr=[thresh_arr[lr_transf_best_ind]])"
      ],
      "metadata": {
        "id": "rO3VPQmKBmFr"
      },
      "execution_count": null,
      "outputs": []
    },
    {
      "cell_type": "code",
      "source": [
        "# describe data\n",
        "\n",
        "describe_metrics(lr_transf_metrics, thresh_arr)"
      ],
      "metadata": {
        "colab": {
          "base_uri": "https://localhost:8080/"
        },
        "id": "FknLQxlLCH4D",
        "outputId": "ba52ba64-48bd-4a34-d4ec-43026fc609a9"
      },
      "execution_count": null,
      "outputs": [
        {
          "output_type": "stream",
          "name": "stdout",
          "text": [
            "Threshold corresponding to Best balanced accuracy: 0.0100\n",
            "Best balanced accuracy: 0.7486\n",
            "Corresponding disparate impact value: 0.7267\n",
            "Corresponding average odds difference value: -0.0259\n",
            "Corresponding statistical parity difference value: -0.1119\n",
            "Corresponding equal opportunity difference value: 0.0195\n"
          ]
        }
      ]
    },
    {
      "cell_type": "code",
      "source": [
        "# plotting the results \n",
        "\n",
        "transf_results = [lr_transf_metrics['bal_acc'][0], lr_transf_metrics['avg_odds_diff'][0],lr_transf_metrics['disp_imp'][0], lr_transf_metrics['stat_par_diff'][0], lr_transf_metrics['eq_opp_diff'][0]]\n",
        "metric_names = ['bal_acc','avg_odds_diff',  'disp_imp',  'stat_par_diff',  'eq_opp_diff' ]\n",
        "plt.bar(metric_names,transf_results)"
      ],
      "metadata": {
        "colab": {
          "base_uri": "https://localhost:8080/",
          "height": 283
        },
        "id": "sqw-j8VoCc1I",
        "outputId": "90d9e9b3-0453-4ced-efb9-b4839c61f929"
      },
      "execution_count": null,
      "outputs": [
        {
          "output_type": "execute_result",
          "data": {
            "text/plain": [
              "<BarContainer object of 5 artists>"
            ]
          },
          "metadata": {},
          "execution_count": 31
        },
        {
          "output_type": "display_data",
          "data": {
            "text/plain": [
              "<Figure size 432x288 with 1 Axes>"
            ],
            "image/png": "[encoded data removed]"
          },
          "metadata": {
            "needs_background": "light"
          }
        }
      ]
    },
    {
      "cell_type": "markdown",
      "source": [
        "## **Explaining with LIME**"
      ],
      "metadata": {
        "id": "HRiqGd8ZZ5h3"
      }
    },
    {
      "cell_type": "code",
      "source": [
        "lime_data = LimeEncoder().fit(dataset_transf_adult_train)\n",
        "\n",
        "s_train = lime_data.transform(dataset_transf_adult_train.features)\n",
        "s_test = lime_data.transform(adult_test.features)\n",
        "\n",
        "test_dataset = adult_test\n",
        "\n",
        "explainer = LimeTabularExplainer(\n",
        "        s_train, class_names=lime_data.s_class_names, \n",
        "        feature_names=lime_data.s_feature_names,\n",
        "        categorical_features=lime_data.s_categorical_features, \n",
        "        categorical_names=lime_data.s_categorical_names, \n",
        "        kernel_width=3, verbose=False, discretize_continuous=True)"
      ],
      "metadata": {
        "id": "djcaawKKZYkW"
      },
      "execution_count": null,
      "outputs": []
    },
    {
      "cell_type": "code",
      "source": [
        "show_explanation(0)"
      ],
      "metadata": {
        "colab": {
          "base_uri": "https://localhost:8080/",
          "height": 298
        },
        "id": "KpEwpPjyZsXY",
        "outputId": "449f3744-367d-4fa3-e3d5-df188e3f2932"
      },
      "execution_count": null,
      "outputs": [
        {
          "output_type": "stream",
          "name": "stdout",
          "text": [
            "Actual label: [0.]\n"
          ]
        },
        {
          "output_type": "display_data",
          "data": {
            "text/plain": [
              "<Figure size 432x288 with 1 Axes>"
            ],
            "image/png": "[encoded data removed]"
          },
          "metadata": {
            "needs_background": "light"
          }
        }
      ]
    },
    {
      "cell_type": "markdown",
      "source": [
        "## **Bias mitigation using in-processing technique - Prejudice Remover (PR)**"
      ],
      "metadata": {
        "id": "Vf6WOGq0HWav"
      }
    },
    {
      "cell_type": "code",
      "source": [
        "model = PrejudiceRemover(sensitive_attr=sens_attr, eta=25.0)\n",
        "pr_orig_scaler = StandardScaler()\n",
        "\n",
        "dataset = adult_train.copy()\n",
        "dataset.features = pr_orig_scaler.fit_transform(dataset.features)\n",
        "\n",
        "pr_orig_adult = model.fit(dataset)"
      ],
      "metadata": {
        "id": "UvoMBqzsHQHT"
      },
      "execution_count": null,
      "outputs": []
    },
    {
      "cell_type": "code",
      "source": [
        "# testing on validation data set and finding the best threshold for accuracy \n",
        "thresh_arr = np.linspace(0.01, 0.5, 50)\n",
        "val_metrics = test(dataset=dataset,\n",
        "                   model=pr_orig_adult,\n",
        "                   thresh_arr=thresh_arr)\n",
        "pr_orig_best_ind = np.argmax(val_metrics['bal_acc'])"
      ],
      "metadata": {
        "id": "lgGtsRYr31JA"
      },
      "execution_count": null,
      "outputs": []
    },
    {
      "cell_type": "code",
      "source": [
        "# testing and cumputing metrics\n",
        "\n",
        "dataset = adult_test.copy()\n",
        "dataset.features = pr_orig_scaler.transform(dataset.features)\n",
        "\n",
        "pr_orig_metrics = test(dataset=dataset,\n",
        "                       model=pr_orig_adult,\n",
        "                       thresh_arr=[thresh_arr[pr_orig_best_ind]])"
      ],
      "metadata": {
        "id": "ft7JDZ-IHzwj"
      },
      "execution_count": null,
      "outputs": []
    },
    {
      "cell_type": "code",
      "source": [
        "#describe metrics\n",
        "describe_metrics(pr_orig_metrics, thresh_arr)"
      ],
      "metadata": {
        "colab": {
          "base_uri": "https://localhost:8080/"
        },
        "id": "0AvNihoXIlVs",
        "outputId": "313d8218-d1a6-4689-a498-f21344c5b67d"
      },
      "execution_count": null,
      "outputs": [
        {
          "output_type": "stream",
          "name": "stdout",
          "text": [
            "Threshold corresponding to Best balanced accuracy: 0.0100\n",
            "Best balanced accuracy: 0.7465\n",
            "Corresponding disparate impact value: 0.4239\n",
            "Corresponding average odds difference value: -0.2009\n",
            "Corresponding statistical parity difference value: -0.2465\n",
            "Corresponding equal opportunity difference value: -0.2115\n"
          ]
        }
      ]
    },
    {
      "cell_type": "code",
      "source": [
        "# plotting the results \n",
        "\n",
        "pr_results = [pr_orig_metrics['bal_acc'][0], pr_orig_metrics['avg_odds_diff'][0],pr_orig_metrics['disp_imp'][0], pr_orig_metrics['stat_par_diff'][0], pr_orig_metrics['eq_opp_diff'][0]]\n",
        "metric_names = ['bal_acc','avg_odds_diff',  'disp_imp',  'stat_par_diff',  'eq_opp_diff' ]\n",
        "plt.bar(metric_names,pr_results)"
      ],
      "metadata": {
        "colab": {
          "base_uri": "https://localhost:8080/",
          "height": 283
        },
        "id": "KcsWHYF2Ixd7",
        "outputId": "dc23a8f0-8674-41e9-edc1-85f9ea589707"
      },
      "execution_count": null,
      "outputs": [
        {
          "output_type": "execute_result",
          "data": {
            "text/plain": [
              "<BarContainer object of 5 artists>"
            ]
          },
          "metadata": {},
          "execution_count": 38
        },
        {
          "output_type": "display_data",
          "data": {
            "text/plain": [
              "<Figure size 432x288 with 1 Axes>"
            ],
            "image/png": "[encoded data removed]"
          },
          "metadata": {
            "needs_background": "light"
          }
        }
      ]
    },
    {
      "cell_type": "markdown",
      "source": [
        "## **Summary of the Results**"
      ],
      "metadata": {
        "id": "oUjAN3x_atNW"
      }
    },
    {
      "cell_type": "code",
      "source": [
        "orig_results = [lr_orig_metrics['bal_acc'][0], lr_orig_metrics['avg_odds_diff'][0],lr_orig_metrics['disp_imp'][0], lr_orig_metrics['stat_par_diff'][0], lr_orig_metrics['eq_opp_diff'][0]]\n",
        "metric_names = ['bal_acc','avg_odds_diff',  'disp_imp',  'stat_par_diff',  'eq_opp_diff' ]\n",
        "plt.bar(metric_names,orig_results, label='Original')\n",
        "\n",
        "pr_results = [pr_orig_metrics['bal_acc'][0], pr_orig_metrics['avg_odds_diff'][0],pr_orig_metrics['disp_imp'][0], pr_orig_metrics['stat_par_diff'][0], pr_orig_metrics['eq_opp_diff'][0]]\n",
        "metric_names = ['bal_acc','avg_odds_diff',  'disp_imp',  'stat_par_diff',  'eq_opp_diff' ]\n",
        "plt.bar(metric_names,pr_results, label='Prejudice Remover')\n",
        "\n",
        "transf_results = [lr_transf_metrics['bal_acc'][0], lr_transf_metrics['avg_odds_diff'][0],lr_transf_metrics['disp_imp'][0], lr_transf_metrics['stat_par_diff'][0], lr_transf_metrics['eq_opp_diff'][0]]\n",
        "metric_names = ['bal_acc','avg_odds_diff',  'disp_imp',  'stat_par_diff',  'eq_opp_diff' ]\n",
        "plt.bar(metric_names,transf_results, label='Reweighted')\n",
        "\n",
        "plt.legend()\n"
      ],
      "metadata": {
        "colab": {
          "base_uri": "https://localhost:8080/",
          "height": 283
        },
        "id": "3QuOUIxJavLc",
        "outputId": "1147858a-3d72-4709-8da8-c26ee73fe266"
      },
      "execution_count": null,
      "outputs": [
        {
          "output_type": "execute_result",
          "data": {
            "text/plain": [
              "<matplotlib.legend.Legend at 0x7f3ee4849550>"
            ]
          },
          "metadata": {},
          "execution_count": 40
        },
        {
          "output_type": "display_data",
          "data": {
            "text/plain": [
              "<Figure size 432x288 with 1 Axes>"
            ],
            "image/png": "[encoded data removed]"
          },
          "metadata": {
            "needs_background": "light"
          }
        }
      ]
    },
    {
      "cell_type": "code",
      "source": [
        "all_results = pd.DataFrame({'methods': ['original data',  'prejudice remover','reweighted data'],metric_names[0]:[orig_results[0],pr_results[0],transf_results[0]],metric_names[1]:[orig_results[1],pr_results[1],transf_results[1]],metric_names[2]:[orig_results[2],pr_results[2],transf_results[2]],metric_names[3]:[orig_results[3],pr_results[3],transf_results[3]], metric_names[4]:[orig_results[4],pr_results[4],transf_results[4]]})\n",
        "all_results \n"
      ],
      "metadata": {
        "colab": {
          "base_uri": "https://localhost:8080/",
          "height": 143
        },
        "id": "ABN8lik4ccuq",
        "outputId": "b6e46c7d-a23f-457a-f8be-5e0f75c23dcb"
      },
      "execution_count": null,
      "outputs": [
        {
          "output_type": "execute_result",
          "data": {
            "text/plain": [
              "             methods   bal_acc  avg_odds_diff  disp_imp  stat_par_diff  \\\n",
              "0      original data  0.747430      -0.187828  0.432529      -0.232301   \n",
              "1  prejudice remover  0.746490      -0.200915  0.423870      -0.246510   \n",
              "2    reweighted data  0.748559      -0.025945  0.726718      -0.111871   \n",
              "\n",
              "   eq_opp_diff  \n",
              "0    -0.200461  \n",
              "1    -0.211453  \n",
              "2     0.019539  "
            ],
            "text/html": [
              "\n",
              "  <div id=\"df-d57fcdac-3a5c-442c-af65-10f1b3c02938\">\n",
              "    <div class=\"colab-df-container\">\n",
              "      <div>\n",
              "<style scoped>\n",
              "    .dataframe tbody tr th:only-of-type {\n",
              "        vertical-align: middle;\n",
              "    }\n",
              "\n",
              "    .dataframe tbody tr th {\n",
              "        vertical-align: top;\n",
              "    }\n",
              "\n",
              "    .dataframe thead th {\n",
              "        text-align: right;\n",
              "    }\n",
              "</style>\n",
              "<table border=\"1\" class=\"dataframe\">\n",
              "  <thead>\n",
              "    <tr style=\"text-align: right;\">\n",
              "      <th></th>\n",
              "      <th>methods</th>\n",
              "      <th>bal_acc</th>\n",
              "      <th>avg_odds_diff</th>\n",
              "      <th>disp_imp</th>\n",
              "      <th>stat_par_diff</th>\n",
              "      <th>eq_opp_diff</th>\n",
              "    </tr>\n",
              "  </thead>\n",
              "  <tbody>\n",
              "    <tr>\n",
              "      <th>0</th>\n",
              "      <td>original data</td>\n",
              "      <td>0.747430</td>\n",
              "      <td>-0.187828</td>\n",
              "      <td>0.432529</td>\n",
              "      <td>-0.232301</td>\n",
              "      <td>-0.200461</td>\n",
              "    </tr>\n",
              "    <tr>\n",
              "      <th>1</th>\n",
              "      <td>prejudice remover</td>\n",
              "      <td>0.746490</td>\n",
              "      <td>-0.200915</td>\n",
              "      <td>0.423870</td>\n",
              "      <td>-0.246510</td>\n",
              "      <td>-0.211453</td>\n",
              "    </tr>\n",
              "    <tr>\n",
              "      <th>2</th>\n",
              "      <td>reweighted data</td>\n",
              "      <td>0.748559</td>\n",
              "      <td>-0.025945</td>\n",
              "      <td>0.726718</td>\n",
              "      <td>-0.111871</td>\n",
              "      <td>0.019539</td>\n",
              "    </tr>\n",
              "  </tbody>\n",
              "</table>\n",
              "</div>\n",
              "      <button class=\"colab-df-convert\" onclick=\"convertToInteractive('df-d57fcdac-3a5c-442c-af65-10f1b3c02938')\"\n",
              "              title=\"Convert this dataframe to an interactive table.\"\n",
              "              style=\"display:none;\">\n",
              "        \n",
              "  <svg xmlns=\"http://www.w3.org/2000/svg\" height=\"24px\"viewBox=\"0 0 24 24\"\n",
              "       width=\"24px\">\n",
              "    <path d=\"M0 0h24v24H0V0z\" fill=\"none\"/>\n",
              "    <path d=\"M18.56 5.44l.94 2.06.94-2.06 2.06-.94-2.06-.94-.94-2.06-.94 2.06-2.06.94zm-11 1L8.5 8.5l.94-2.06 2.06-.94-2.06-.94L8.5 2.5l-.94 2.06-2.06.94zm10 10l.94 2.06.94-2.06 2.06-.94-2.06-.94-.94-2.06-.94 2.06-2.06.94z\"/><path d=\"M17.41 7.96l-1.37-1.37c-.4-.4-.92-.59-1.43-.59-.52 0-1.04.2-1.43.59L10.3 9.45l-7.72 7.72c-.78.78-.78 2.05 0 2.83L4 21.41c.39.39.9.59 1.41.59.51 0 1.02-.2 1.41-.59l7.78-7.78 2.81-2.81c.8-.78.8-2.07 0-2.86zM5.41 20L4 18.59l7.72-7.72 1.47 1.35L5.41 20z\"/>\n",
              "  </svg>\n",
              "      </button>\n",
              "      \n",
              "  <style>\n",
              "    .colab-df-container {\n",
              "      display:flex;\n",
              "      flex-wrap:wrap;\n",
              "      gap: 12px;\n",
              "    }\n",
              "\n",
              "    .colab-df-convert {\n",
              "      background-color: #E8F0FE;\n",
              "      border: none;\n",
              "      border-radius: 50%;\n",
              "      cursor: pointer;\n",
              "      display: none;\n",
              "      fill: #1967D2;\n",
              "      height: 32px;\n",
              "      padding: 0 0 0 0;\n",
              "      width: 32px;\n",
              "    }\n",
              "\n",
              "    .colab-df-convert:hover {\n",
              "      background-color: #E2EBFA;\n",
              "      box-shadow: 0px 1px 2px rgba(60, 64, 67, 0.3), 0px 1px 3px 1px rgba(60, 64, 67, 0.15);\n",
              "      fill: #174EA6;\n",
              "    }\n",
              "\n",
              "    [theme=dark] .colab-df-convert {\n",
              "      background-color: #3B4455;\n",
              "      fill: #D2E3FC;\n",
              "    }\n",
              "\n",
              "    [theme=dark] .colab-df-convert:hover {\n",
              "      background-color: #434B5C;\n",
              "      box-shadow: 0px 1px 3px 1px rgba(0, 0, 0, 0.15);\n",
              "      filter: drop-shadow(0px 1px 2px rgba(0, 0, 0, 0.3));\n",
              "      fill: #FFFFFF;\n",
              "    }\n",
              "  </style>\n",
              "\n",
              "      <script>\n",
              "        const buttonEl =\n",
              "          document.querySelector('#df-d57fcdac-3a5c-442c-af65-10f1b3c02938 button.colab-df-convert');\n",
              "        buttonEl.style.display =\n",
              "          google.colab.kernel.accessAllowed ? 'block' : 'none';\n",
              "\n",
              "        async function convertToInteractive(key) {\n",
              "          const element = document.querySelector('#df-d57fcdac-3a5c-442c-af65-10f1b3c02938');\n",
              "          const dataTable =\n",
              "            await google.colab.kernel.invokeFunction('convertToInteractive',\n",
              "                                                     [key], {});\n",
              "          if (!dataTable) return;\n",
              "\n",
              "          const docLinkHtml = 'Like what you see? Visit the ' +\n",
              "            '<a target=\"_blank\" href=https://colab.research.google.com/notebooks/data_table.ipynb>data table notebook</a>'\n",
              "            + ' to learn more about interactive tables.';\n",
              "          element.innerHTML = '';\n",
              "          dataTable['output_type'] = 'display_data';\n",
              "          await google.colab.output.renderOutput(dataTable, element);\n",
              "          const docLink = document.createElement('div');\n",
              "          docLink.innerHTML = docLinkHtml;\n",
              "          element.appendChild(docLink);\n",
              "        }\n",
              "      </script>\n",
              "    </div>\n",
              "  </div>\n",
              "  "
            ]
          },
          "metadata": {},
          "execution_count": 41
        }
      ]
    },
    {
      "cell_type": "markdown",
      "source": [
        "## **Exercise 1 (2 points): Select another (not 'race') sensitive attribute in the Adult dataset**"
      ],
      "metadata": {
        "id": "DE-yKKThJ1VL"
      }
    },
    {
      "cell_type": "markdown",
      "source": [
        "Perform same steps as in the examples but with different sensitive attribute. Have you noticed another sensitive attribute that is unfairly used for predictions (hint: take a look at LIME explanations)? Select it as 'sensitive attribute' when loading the adult dataset (the code is given below) and follow the steps to learn three types of classifiers: Logistic Regression on the original data, Logistic regression on the reweighted data and Prejudice Remover. Then compare the metrics and aswer the questions based on your observations."
      ],
      "metadata": {
        "id": "teG1eJSQMbzP"
      }
    },
    {
      "cell_type": "code",
      "source": [
        "att = 'sex' #change to your attribute name\n",
        "\n",
        "AdultDataset = load_preproc_data_adult([att])\n",
        "\n",
        "privileged_groups = [{att: 1}] \n",
        "unprivileged_groups = [{att: 0}] \n",
        "\n",
        "\n",
        "(adult_train,\n",
        " adult_val,\n",
        " adult_test) = AdultDataset.split([0.5, 0.8], shuffle=True)\n",
        "\n",
        "sens_ind = 0\n",
        "sens_attr = adult_train.protected_attribute_names[sens_ind]\n",
        "\n",
        "unprivileged_groups = [{sens_attr: v} for v in\n",
        "                       adult_train.unprivileged_protected_attributes[sens_ind]]\n",
        "privileged_groups = [{sens_attr: v} for v in\n",
        "                     adult_train.privileged_protected_attributes[sens_ind]]\n"
      ],
      "metadata": {
        "id": "pVVUHC4pnd11"
      },
      "execution_count": null,
      "outputs": []
    },
    {
      "cell_type": "code",
      "source": [
        "describe(adult_train, adult_val, adult_test)"
      ],
      "metadata": {
        "id": "Jb44sxQZhTOn",
        "colab": {
          "base_uri": "https://localhost:8080/",
          "height": 438
        },
        "outputId": "534d8f02-6431-4be2-e135-27f7adb0fa82"
      },
      "execution_count": null,
      "outputs": [
        {
          "output_type": "display_data",
          "data": {
            "text/plain": [
              "<IPython.core.display.Markdown object>"
            ],
            "text/markdown": "#### Training Dataset shape"
          },
          "metadata": {}
        },
        {
          "output_type": "stream",
          "name": "stdout",
          "text": [
            "(24421, 18)\n"
          ]
        },
        {
          "output_type": "display_data",
          "data": {
            "text/plain": [
              "<IPython.core.display.Markdown object>"
            ],
            "text/markdown": "#### Validation Dataset shape"
          },
          "metadata": {}
        },
        {
          "output_type": "stream",
          "name": "stdout",
          "text": [
            "(14652, 18)\n"
          ]
        },
        {
          "output_type": "display_data",
          "data": {
            "text/plain": [
              "<IPython.core.display.Markdown object>"
            ],
            "text/markdown": "#### Test Dataset shape"
          },
          "metadata": {}
        },
        {
          "output_type": "stream",
          "name": "stdout",
          "text": [
            "(9769, 18)\n"
          ]
        },
        {
          "output_type": "display_data",
          "data": {
            "text/plain": [
              "<IPython.core.display.Markdown object>"
            ],
            "text/markdown": "#### Favorable and unfavorable labels"
          },
          "metadata": {}
        },
        {
          "output_type": "stream",
          "name": "stdout",
          "text": [
            "1.0 0.0\n"
          ]
        },
        {
          "output_type": "display_data",
          "data": {
            "text/plain": [
              "<IPython.core.display.Markdown object>"
            ],
            "text/markdown": "#### Protected attribute names"
          },
          "metadata": {}
        },
        {
          "output_type": "stream",
          "name": "stdout",
          "text": [
            "['sex']\n"
          ]
        },
        {
          "output_type": "display_data",
          "data": {
            "text/plain": [
              "<IPython.core.display.Markdown object>"
            ],
            "text/markdown": "#### Privileged and unprivileged protected attribute values"
          },
          "metadata": {}
        },
        {
          "output_type": "stream",
          "name": "stdout",
          "text": [
            "[array([1.])] [array([0.])]\n"
          ]
        },
        {
          "output_type": "display_data",
          "data": {
            "text/plain": [
              "<IPython.core.display.Markdown object>"
            ],
            "text/markdown": "#### Dataset feature names"
          },
          "metadata": {}
        },
        {
          "output_type": "stream",
          "name": "stdout",
          "text": [
            "['race', 'sex', 'Age (decade)=10', 'Age (decade)=20', 'Age (decade)=30', 'Age (decade)=40', 'Age (decade)=50', 'Age (decade)=60', 'Age (decade)=>=70', 'Education Years=6', 'Education Years=7', 'Education Years=8', 'Education Years=9', 'Education Years=10', 'Education Years=11', 'Education Years=12', 'Education Years=<6', 'Education Years=>12']\n"
          ]
        }
      ]
    },
    {
      "cell_type": "code",
      "source": [
        "metric_adult_train = BinaryLabelDatasetMetric(\n",
        "        adult_train,\n",
        "        unprivileged_groups=unprivileged_groups,\n",
        "        privileged_groups=privileged_groups)\n",
        "explainer_adult_train = MetricTextExplainer(metric_adult_train)\n",
        "\n",
        "print(explainer_adult_train.disparate_impact())\n",
        "print(explainer_adult_train.statistical_parity_difference())"
      ],
      "metadata": {
        "id": "MpKGzsuNhDcv",
        "colab": {
          "base_uri": "https://localhost:8080/"
        },
        "outputId": "12841ed0-86d8-49f3-adc7-0513bbc8d150"
      },
      "execution_count": null,
      "outputs": [
        {
          "output_type": "stream",
          "name": "stdout",
          "text": [
            "Disparate impact (probability of favorable outcome for unprivileged instances / probability of favorable outcome for privileged instances): 0.3550364803159952\n",
            "Statistical parity difference (probability of favorable outcome for unprivileged instances - probability of favorable outcome for privileged instances): -0.19482373391306854\n"
          ]
        }
      ]
    },
    {
      "cell_type": "markdown",
      "source": [
        "##  **Exercise 2 (2 points)**: Learn a Logistic Regression Clasifier on the Original Data and Compute Fairness and Accuracy Metrics"
      ],
      "metadata": {
        "id": "H_xMpjFfjLgT"
      }
    },
    {
      "cell_type": "code",
      "source": [
        "# train the Logistic Regression classifier\n",
        "dataset = adult_train\n",
        "model = make_pipeline(StandardScaler(),\n",
        "                      LogisticRegression(solver='liblinear', random_state=1))\n",
        "fit_params = {'logisticregression__sample_weight': dataset.instance_weights}\n",
        "\n",
        "lr_orig_adult = model.fit(dataset.features, dataset.labels.ravel(), **fit_params)"
      ],
      "metadata": {
        "id": "6w8mpzE6i-nT"
      },
      "execution_count": null,
      "outputs": []
    },
    {
      "cell_type": "code",
      "source": [
        "# testing on validation data set and finding the best threshold for accuracy \n",
        "thresh_arr = np.linspace(0.01, 0.5, 50)\n",
        "val_metrics = test(dataset=adult_val,\n",
        "                   model=lr_orig_adult,\n",
        "                   thresh_arr=thresh_arr)\n",
        "lr_orig_best_ind = np.argmax(val_metrics['bal_acc'])"
      ],
      "metadata": {
        "id": "LaDLUSwJ6Y0q"
      },
      "execution_count": null,
      "outputs": []
    },
    {
      "cell_type": "code",
      "source": [
        "# Testing on the test dataset using the best threshold\n",
        "\n",
        "lr_orig_metrics = test(dataset=adult_test,\n",
        "                       model=lr_orig_adult,thresh_arr=[thresh_arr[lr_orig_best_ind]])"
      ],
      "metadata": {
        "id": "rqbUHNZbk5DO"
      },
      "execution_count": null,
      "outputs": []
    },
    {
      "cell_type": "code",
      "source": [
        "# Calculating metrics on test data\n",
        "describe_metrics(lr_orig_metrics,thresh_arr)"
      ],
      "metadata": {
        "id": "xYrLKLjCk7bK",
        "colab": {
          "base_uri": "https://localhost:8080/"
        },
        "outputId": "959dfac6-dc89-4b3e-f4b2-2bc15cf79b1d"
      },
      "execution_count": null,
      "outputs": [
        {
          "output_type": "stream",
          "name": "stdout",
          "text": [
            "Threshold corresponding to Best balanced accuracy: 0.0100\n",
            "Best balanced accuracy: 0.7442\n",
            "Corresponding disparate impact value: 0.2545\n",
            "Corresponding average odds difference value: -0.3499\n",
            "Corresponding statistical parity difference value: -0.4000\n",
            "Corresponding equal opportunity difference value: -0.3939\n"
          ]
        }
      ]
    },
    {
      "cell_type": "markdown",
      "source": [
        "##  **Exercise 3 (2 points)**: Learn a Logistic Regression Clasifier on the Reweighted Data and Compute Fairness and Accuracy Metrics"
      ],
      "metadata": {
        "id": "XpbSeglHjyZ8"
      }
    },
    {
      "cell_type": "code",
      "source": [
        "# transform the dataset\n",
        "dataset = dataset_transf_adult_train\n",
        "model = make_pipeline(StandardScaler(),\n",
        "                      LogisticRegression(solver='liblinear', random_state=1))\n",
        "fit_params = {'logisticregression__sample_weight': dataset.instance_weights}\n",
        "lr_transf_adult = model.fit(dataset.features, dataset.labels.ravel(), **fit_params)\n",
        "\n",
        "\n",
        "#calculate metrics for transformed data\n",
        "thresh_arr = np.linspace(0.01, 0.5, 50)\n",
        "val_metrics = test(dataset=adult_val,\n",
        "                   model=lr_transf_adult,\n",
        "                   thresh_arr=thresh_arr)\n",
        "lr_transf_best_ind = np.argmax(val_metrics['bal_acc'])\n",
        "\n",
        "\n",
        "lr_transf_metrics = test(dataset=adult_test,\n",
        "                         model=lr_transf_adult,\n",
        "                         thresh_arr=[thresh_arr[lr_transf_best_ind]])\n",
        "\n",
        "# describe data\n",
        "describe_metrics(lr_transf_metrics, thresh_arr)\n",
        "\n",
        "# plotting the results \n",
        "transf_results = [lr_transf_metrics['bal_acc'][0], lr_transf_metrics['avg_odds_diff'][0],lr_transf_metrics['disp_imp'][0], lr_transf_metrics['stat_par_diff'][0], lr_transf_metrics['eq_opp_diff'][0]]\n",
        "metric_names = ['bal_acc','avg_odds_diff',  'disp_imp',  'stat_par_diff',  'eq_opp_diff' ]\n",
        "plt.bar(metric_names,transf_results)\n",
        "\n"
      ],
      "metadata": {
        "id": "BlfogIqzi5ph",
        "colab": {
          "base_uri": "https://localhost:8080/",
          "height": 392
        },
        "outputId": "4aae94e8-28fc-46f6-c8f4-455f882a368d"
      },
      "execution_count": null,
      "outputs": [
        {
          "output_type": "stream",
          "name": "stdout",
          "text": [
            "Threshold corresponding to Best balanced accuracy: 0.0100\n",
            "Best balanced accuracy: 0.7461\n",
            "Corresponding disparate impact value: 0.2850\n",
            "Corresponding average odds difference value: -0.3216\n",
            "Corresponding statistical parity difference value: -0.3791\n",
            "Corresponding equal opportunity difference value: -0.3580\n"
          ]
        },
        {
          "output_type": "execute_result",
          "data": {
            "text/plain": [
              "<BarContainer object of 5 artists>"
            ]
          },
          "metadata": {},
          "execution_count": 90
        },
        {
          "output_type": "display_data",
          "data": {
            "text/plain": [
              "<Figure size 432x288 with 1 Axes>"
            ],
            "image/png": "[encoded data removed]"
          },
          "metadata": {
            "needs_background": "light"
          }
        }
      ]
    },
    {
      "cell_type": "code",
      "source": [
        "# describe metrics\n",
        "\n",
        "describe_metrics(lr_transf_metrics, thresh_arr)"
      ],
      "metadata": {
        "id": "e8oGDfsttZh8",
        "colab": {
          "base_uri": "https://localhost:8080/"
        },
        "outputId": "361c6378-3538-4002-e1f0-94c53446e300"
      },
      "execution_count": null,
      "outputs": [
        {
          "output_type": "stream",
          "name": "stdout",
          "text": [
            "Threshold corresponding to Best balanced accuracy: 0.0100\n",
            "Best balanced accuracy: 0.7461\n",
            "Corresponding disparate impact value: 0.2850\n",
            "Corresponding average odds difference value: -0.3216\n",
            "Corresponding statistical parity difference value: -0.3791\n",
            "Corresponding equal opportunity difference value: -0.3580\n"
          ]
        }
      ]
    },
    {
      "cell_type": "markdown",
      "source": [
        "##  **Exercise 4 (2 points)**: Learn a Prejudice Remover Clasifier on the *Original Data* and Compute Fairness and Accuracy Metrics"
      ],
      "metadata": {
        "id": "jYVXlEG8j1eD"
      }
    },
    {
      "cell_type": "code",
      "source": [
        "# learn the model\n",
        "model = PrejudiceRemover(sensitive_attr=sens_attr, eta=25.0)\n",
        "pr_orig_scaler = StandardScaler()\n",
        "\n",
        "dataset = adult_train.copy()\n",
        "dataset.features = pr_orig_scaler.fit_transform(dataset.features)\n",
        "\n",
        "pr_orig_adult = model.fit(dataset)"
      ],
      "metadata": {
        "id": "trScL9eLj-65"
      },
      "execution_count": null,
      "outputs": []
    },
    {
      "cell_type": "code",
      "source": [
        "# testing on validation data set and finding the best threshold for accuracy \n",
        "# testing on validation data set and finding the best threshold for accuracy \n",
        "thresh_arr = np.linspace(0.01, 0.5, 50)\n",
        "val_metrics = test(dataset=dataset,\n",
        "                   model=pr_orig_adult,\n",
        "                   thresh_arr=thresh_arr)\n",
        "pr_orig_best_ind = np.argmax(val_metrics['bal_acc'])"
      ],
      "metadata": {
        "id": "UuqbkX8Sv3kV"
      },
      "execution_count": null,
      "outputs": []
    },
    {
      "cell_type": "code",
      "source": [
        "# testing and cumputing metrics\n",
        "# testing and cumputing metrics\n",
        "dataset = adult_test.copy()\n",
        "dataset.features = pr_orig_scaler.transform(dataset.features)\n",
        "\n",
        "pr_orig_metrics = test(dataset=dataset,\n",
        "                       model=pr_orig_adult,\n",
        "                       thresh_arr=[thresh_arr[pr_orig_best_ind]])"
      ],
      "metadata": {
        "id": "WqPeNVDkxmZA"
      },
      "execution_count": null,
      "outputs": []
    },
    {
      "cell_type": "code",
      "source": [
        "#describe metrics\n",
        "describe_metrics(pr_orig_metrics, thresh_arr)"
      ],
      "metadata": {
        "id": "4TRp5y60wBjJ",
        "colab": {
          "base_uri": "https://localhost:8080/"
        },
        "outputId": "19208dc7-c535-4a13-d424-0e8808a31a8d"
      },
      "execution_count": null,
      "outputs": [
        {
          "output_type": "stream",
          "name": "stdout",
          "text": [
            "Threshold corresponding to Best balanced accuracy: 0.0100\n",
            "Best balanced accuracy: 0.6922\n",
            "Corresponding disparate impact value: 0.5993\n",
            "Corresponding average odds difference value: -0.1042\n",
            "Corresponding statistical parity difference value: -0.1532\n",
            "Corresponding equal opportunity difference value: -0.1375\n"
          ]
        }
      ]
    },
    {
      "cell_type": "markdown",
      "source": [
        "##  **Exercise 5 (2 points)**: Provide the Summary for All Three Classifiers "
      ],
      "metadata": {
        "id": "Inz9zFzokEtv"
      }
    },
    {
      "cell_type": "code",
      "source": [
        "orig_results = [lr_orig_metrics['bal_acc'][0], lr_orig_metrics['avg_odds_diff'][0],lr_orig_metrics['disp_imp'][0], lr_orig_metrics['stat_par_diff'][0], lr_orig_metrics['eq_opp_diff'][0]]\n",
        "\n",
        "pr_results = [pr_orig_metrics['bal_acc'][0], pr_orig_metrics['avg_odds_diff'][0],pr_orig_metrics['disp_imp'][0], pr_orig_metrics['stat_par_diff'][0], pr_orig_metrics['eq_opp_diff'][0]]\n",
        "\n",
        "transf_results = [lr_transf_metrics['bal_acc'][0], lr_transf_metrics['avg_odds_diff'][0],lr_transf_metrics['disp_imp'][0], lr_transf_metrics['stat_par_diff'][0], lr_transf_metrics['eq_opp_diff'][0]]\n",
        "\n",
        "metric_names = ['bal_acc','avg_odds_diff',  'disp_imp',  'stat_par_diff',  'eq_opp_diff' ]\n"
      ],
      "metadata": {
        "id": "XrUVyW5M78P0"
      },
      "execution_count": null,
      "outputs": []
    },
    {
      "cell_type": "code",
      "source": [
        "all_results = pd.DataFrame({'methods': ['original data',  'prejudice remover','reweighted data'],metric_names[0]:[orig_results[0],pr_results[0],transf_results[0]],metric_names[1]:[orig_results[1],pr_results[1],transf_results[1]],metric_names[2]:[orig_results[2],pr_results[2],transf_results[2]],metric_names[3]:[orig_results[3],pr_results[3],transf_results[3]], metric_names[4]:[orig_results[4],pr_results[4],transf_results[4]]})\n",
        "all_results "
      ],
      "metadata": {
        "id": "ZacFJ8-J8B7D",
        "colab": {
          "base_uri": "https://localhost:8080/",
          "height": 143
        },
        "outputId": "25ee146f-9851-4872-86cd-f250cfe49937"
      },
      "execution_count": null,
      "outputs": [
        {
          "output_type": "execute_result",
          "data": {
            "text/plain": [
              "             methods   bal_acc  avg_odds_diff  disp_imp  stat_par_diff  \\\n",
              "0      original data  0.744153      -0.349853  0.254459      -0.399970   \n",
              "1  prejudice remover  0.692196      -0.104217  0.599329      -0.153235   \n",
              "2    reweighted data  0.746111      -0.321593  0.284995      -0.379129   \n",
              "\n",
              "   eq_opp_diff  \n",
              "0    -0.393912  \n",
              "1    -0.137452  \n",
              "2    -0.357990  "
            ],
            "text/html": [
              "\n",
              "  <div id=\"df-13ab1e8d-03b8-4bc5-ba50-ef20fb9df452\">\n",
              "    <div class=\"colab-df-container\">\n",
              "      <div>\n",
              "<style scoped>\n",
              "    .dataframe tbody tr th:only-of-type {\n",
              "        vertical-align: middle;\n",
              "    }\n",
              "\n",
              "    .dataframe tbody tr th {\n",
              "        vertical-align: top;\n",
              "    }\n",
              "\n",
              "    .dataframe thead th {\n",
              "        text-align: right;\n",
              "    }\n",
              "</style>\n",
              "<table border=\"1\" class=\"dataframe\">\n",
              "  <thead>\n",
              "    <tr style=\"text-align: right;\">\n",
              "      <th></th>\n",
              "      <th>methods</th>\n",
              "      <th>bal_acc</th>\n",
              "      <th>avg_odds_diff</th>\n",
              "      <th>disp_imp</th>\n",
              "      <th>stat_par_diff</th>\n",
              "      <th>eq_opp_diff</th>\n",
              "    </tr>\n",
              "  </thead>\n",
              "  <tbody>\n",
              "    <tr>\n",
              "      <th>0</th>\n",
              "      <td>original data</td>\n",
              "      <td>0.744153</td>\n",
              "      <td>-0.349853</td>\n",
              "      <td>0.254459</td>\n",
              "      <td>-0.399970</td>\n",
              "      <td>-0.393912</td>\n",
              "    </tr>\n",
              "    <tr>\n",
              "      <th>1</th>\n",
              "      <td>prejudice remover</td>\n",
              "      <td>0.692196</td>\n",
              "      <td>-0.104217</td>\n",
              "      <td>0.599329</td>\n",
              "      <td>-0.153235</td>\n",
              "      <td>-0.137452</td>\n",
              "    </tr>\n",
              "    <tr>\n",
              "      <th>2</th>\n",
              "      <td>reweighted data</td>\n",
              "      <td>0.746111</td>\n",
              "      <td>-0.321593</td>\n",
              "      <td>0.284995</td>\n",
              "      <td>-0.379129</td>\n",
              "      <td>-0.357990</td>\n",
              "    </tr>\n",
              "  </tbody>\n",
              "</table>\n",
              "</div>\n",
              "      <button class=\"colab-df-convert\" onclick=\"convertToInteractive('df-13ab1e8d-03b8-4bc5-ba50-ef20fb9df452')\"\n",
              "              title=\"Convert this dataframe to an interactive table.\"\n",
              "              style=\"display:none;\">\n",
              "        \n",
              "  <svg xmlns=\"http://www.w3.org/2000/svg\" height=\"24px\"viewBox=\"0 0 24 24\"\n",
              "       width=\"24px\">\n",
              "    <path d=\"M0 0h24v24H0V0z\" fill=\"none\"/>\n",
              "    <path d=\"M18.56 5.44l.94 2.06.94-2.06 2.06-.94-2.06-.94-.94-2.06-.94 2.06-2.06.94zm-11 1L8.5 8.5l.94-2.06 2.06-.94-2.06-.94L8.5 2.5l-.94 2.06-2.06.94zm10 10l.94 2.06.94-2.06 2.06-.94-2.06-.94-.94-2.06-.94 2.06-2.06.94z\"/><path d=\"M17.41 7.96l-1.37-1.37c-.4-.4-.92-.59-1.43-.59-.52 0-1.04.2-1.43.59L10.3 9.45l-7.72 7.72c-.78.78-.78 2.05 0 2.83L4 21.41c.39.39.9.59 1.41.59.51 0 1.02-.2 1.41-.59l7.78-7.78 2.81-2.81c.8-.78.8-2.07 0-2.86zM5.41 20L4 18.59l7.72-7.72 1.47 1.35L5.41 20z\"/>\n",
              "  </svg>\n",
              "      </button>\n",
              "      \n",
              "  <style>\n",
              "    .colab-df-container {\n",
              "      display:flex;\n",
              "      flex-wrap:wrap;\n",
              "      gap: 12px;\n",
              "    }\n",
              "\n",
              "    .colab-df-convert {\n",
              "      background-color: #E8F0FE;\n",
              "      border: none;\n",
              "      border-radius: 50%;\n",
              "      cursor: pointer;\n",
              "      display: none;\n",
              "      fill: #1967D2;\n",
              "      height: 32px;\n",
              "      padding: 0 0 0 0;\n",
              "      width: 32px;\n",
              "    }\n",
              "\n",
              "    .colab-df-convert:hover {\n",
              "      background-color: #E2EBFA;\n",
              "      box-shadow: 0px 1px 2px rgba(60, 64, 67, 0.3), 0px 1px 3px 1px rgba(60, 64, 67, 0.15);\n",
              "      fill: #174EA6;\n",
              "    }\n",
              "\n",
              "    [theme=dark] .colab-df-convert {\n",
              "      background-color: #3B4455;\n",
              "      fill: #D2E3FC;\n",
              "    }\n",
              "\n",
              "    [theme=dark] .colab-df-convert:hover {\n",
              "      background-color: #434B5C;\n",
              "      box-shadow: 0px 1px 3px 1px rgba(0, 0, 0, 0.15);\n",
              "      filter: drop-shadow(0px 1px 2px rgba(0, 0, 0, 0.3));\n",
              "      fill: #FFFFFF;\n",
              "    }\n",
              "  </style>\n",
              "\n",
              "      <script>\n",
              "        const buttonEl =\n",
              "          document.querySelector('#df-13ab1e8d-03b8-4bc5-ba50-ef20fb9df452 button.colab-df-convert');\n",
              "        buttonEl.style.display =\n",
              "          google.colab.kernel.accessAllowed ? 'block' : 'none';\n",
              "\n",
              "        async function convertToInteractive(key) {\n",
              "          const element = document.querySelector('#df-13ab1e8d-03b8-4bc5-ba50-ef20fb9df452');\n",
              "          const dataTable =\n",
              "            await google.colab.kernel.invokeFunction('convertToInteractive',\n",
              "                                                     [key], {});\n",
              "          if (!dataTable) return;\n",
              "\n",
              "          const docLinkHtml = 'Like what you see? Visit the ' +\n",
              "            '<a target=\"_blank\" href=https://colab.research.google.com/notebooks/data_table.ipynb>data table notebook</a>'\n",
              "            + ' to learn more about interactive tables.';\n",
              "          element.innerHTML = '';\n",
              "          dataTable['output_type'] = 'display_data';\n",
              "          await google.colab.output.renderOutput(dataTable, element);\n",
              "          const docLink = document.createElement('div');\n",
              "          docLink.innerHTML = docLinkHtml;\n",
              "          element.appendChild(docLink);\n",
              "        }\n",
              "      </script>\n",
              "    </div>\n",
              "  </div>\n",
              "  "
            ]
          },
          "metadata": {},
          "execution_count": 97
        }
      ]
    },
    {
      "cell_type": "markdown",
      "source": [
        "## **Exercise 6 (2 points): Intersectionality**"
      ],
      "metadata": {
        "id": "MuJ6oIp5J0lj"
      }
    },
    {
      "cell_type": "markdown",
      "source": [
        "Compute the Intersectional Statistical Parity for sensitive attribute combined from 'race' and yor chosen sensitive attribute. You can use the functions below."
      ],
      "metadata": {
        "id": "BXOTzYcmK_K0"
      }
    },
    {
      "cell_type": "code",
      "source": [
        "data = adult_train.convert_to_dataframe()[0]\n",
        "\n",
        "#original sensitive attribute\n",
        "race = 'race'\n",
        "#your sensitive attribute. Replace text 'your sensitive attribute name' with the variable name.\n",
        "att = 'sex'"
      ],
      "metadata": {
        "id": "c5k4ewCMHUOQ"
      },
      "execution_count": null,
      "outputs": []
    },
    {
      "cell_type": "code",
      "source": [
        "#calculate the probability for desirable income when both sensitive attributes are equal to zero (unprivileged)\n",
        "\n",
        "value0 = data.loc[(data[race]==0)&(data[att]==0)&(data['Income Binary']==1)].shape[0]/data.loc[(data[race]==0)&(data[att]==0)].shape[0]"
      ],
      "metadata": {
        "id": "NiYAJkyLHryX"
      },
      "execution_count": null,
      "outputs": []
    },
    {
      "cell_type": "code",
      "source": [
        "#calculate the probability for desirable income when both sensitive attributes are equal to one (privileged)\n",
        "value1=data.loc[(data[race]==1)&(data[att]==1)&(data['Income Binary']==1)].shape[0]/data.loc[(data[race]==1)&(data[att]==1)].shape[0]"
      ],
      "metadata": {
        "id": "9eB6Z0cfI91-"
      },
      "execution_count": null,
      "outputs": []
    },
    {
      "cell_type": "code",
      "source": [
        "print(\"The Statistical Parity Difference for Intersectional Sensitive Attribute: \",value0-value1)"
      ],
      "metadata": {
        "id": "OEABI4TdJTQg",
        "colab": {
          "base_uri": "https://localhost:8080/"
        },
        "outputId": "13063f72-e406-40ba-b795-2cbdaad741c2"
      },
      "execution_count": null,
      "outputs": [
        {
          "output_type": "stream",
          "name": "stdout",
          "text": [
            "The Statistical Parity Difference for Intersectional Sensitive Attribute:  -0.24095636646881796\n"
          ]
        }
      ]
    },
    {
      "cell_type": "code",
      "source": [
        "orig_results = [lr_orig_metrics['bal_acc'][0], lr_orig_metrics['avg_odds_diff'][0],lr_orig_metrics['disp_imp'][0], lr_orig_metrics['stat_par_diff'][0], lr_orig_metrics['eq_opp_diff'][0]]\n",
        "metric_names = ['bal_acc','avg_odds_diff',  'disp_imp',  'stat_par_diff',  'eq_opp_diff' ]\n",
        "plt.bar(metric_names,orig_results, label='Original')\n",
        "\n",
        "pr_results = [pr_orig_metrics['bal_acc'][0], pr_orig_metrics['avg_odds_diff'][0],pr_orig_metrics['disp_imp'][0], pr_orig_metrics['stat_par_diff'][0], pr_orig_metrics['eq_opp_diff'][0]]\n",
        "metric_names = ['bal_acc','avg_odds_diff',  'disp_imp',  'stat_par_diff',  'eq_opp_diff' ]\n",
        "plt.bar(metric_names,pr_results, label='Prejudice Remover')\n",
        "\n",
        "transf_results = [lr_transf_metrics['bal_acc'][0], lr_transf_metrics['avg_odds_diff'][0],lr_transf_metrics['disp_imp'][0], lr_transf_metrics['stat_par_diff'][0], lr_transf_metrics['eq_opp_diff'][0]]\n",
        "metric_names = ['bal_acc','avg_odds_diff',  'disp_imp',  'stat_par_diff',  'eq_opp_diff' ]\n",
        "plt.bar(metric_names,transf_results, label='Reweighted')\n",
        "\n",
        "plt.legend()"
      ],
      "metadata": {
        "colab": {
          "base_uri": "https://localhost:8080/",
          "height": 287
        },
        "id": "ixjdd_jvR8jt",
        "outputId": "272b0ec7-6ada-4154-f590-a4bb594994dc"
      },
      "execution_count": null,
      "outputs": [
        {
          "output_type": "execute_result",
          "data": {
            "text/plain": [
              "<matplotlib.legend.Legend at 0x7f3ee346fbb0>"
            ]
          },
          "metadata": {},
          "execution_count": 102
        },
        {
          "output_type": "display_data",
          "data": {
            "text/plain": [
              "<Figure size 432x288 with 1 Axes>"
            ],
            "image/png": "[encoded data removed]"
          },
          "metadata": {
            "needs_background": "light"
          }
        }
      ]
    },
    {
      "cell_type": "markdown",
      "source": [
        "## **Questions**"
      ],
      "metadata": {
        "id": "TSUb4wDN_agL"
      }
    },
    {
      "cell_type": "markdown",
      "source": [
        "**1. Which sensitive attribute did you choose? Towards which sensitive attribute was the data more unfair: the one in the example or the one you have used in the exercise? (2 points)**"
      ],
      "metadata": {
        "id": "uCLzZhZx_fyH"
      }
    },
    {
      "cell_type": "markdown",
      "source": [
        "I choosed sex attribute, as it the only sensitive attribute to choose, considering that age is not really a sensitive.\n",
        "\n",
        "\n",
        "for race sensitive attribute:\n",
        "Statistical parity difference: -0.095\n",
        "Disparate impact: 0.6283\n",
        "\n",
        "for sexe sensitive attribute\n",
        "Statistical parity difference: -0.195\n",
        "Disparate impact : 0.355\n",
        "\n",
        "higher disparate impact is more likely to be considered discriminatory, thus race is a more snesitive attribute than sexe for salary. \n",
        "A negative statistical parity indicate in our context that our sensitive attribute suffer from discrimination compare to the priviledge group. In our context, the difference is bigger for sexe sensitive attribute. Therefore, the distribution of big salary is more inequal for sexe sensitive attribute.\n"
      ],
      "metadata": {
        "id": "EhAtx64m_7eV"
      }
    },
    {
      "cell_type": "markdown",
      "source": [
        "**2. Which bias mitigation method performed better? (2 points)**"
      ],
      "metadata": {
        "id": "OzY97qLy_-jT"
      }
    },
    {
      "cell_type": "markdown",
      "source": [
        "Prejudice remover performs better for the sexe sensitive attribute. However, reweighted bias mitigation was a most efficient choice for race sensitive attribute.\n"
      ],
      "metadata": {
        "id": "aRCb5DEtAJdG"
      }
    },
    {
      "cell_type": "markdown",
      "source": [
        "**3. What is the Statistical Parity difference for intersectional attribute? (2 points)**"
      ],
      "metadata": {
        "id": "u_Qn9FxnLoAH"
      }
    },
    {
      "cell_type": "markdown",
      "source": [
        "The statistical parity difference for an intersectional attribute is the difference between probability of an outcome or decision for two different groups. Its means the distributions of data differs from 25%. \n",
        "A positive number shows that unpriviledge intersectional group of sexe and race have a batter probability of good outcome than priviledge group (that have both priviledge sexe and race attribute). This is a rather suprising result, it would be expected that being part of 2 sensitive group means less chance to get a 50k or more salary but results show otherwise."
      ],
      "metadata": {
        "id": "m6Z4a32SL1rM"
      }
    },
    {
      "cell_type": "markdown",
      "source": [
        "**4. How disparity towards intersectional attribute compares to disparity for any of two sensitive attributes alone? (2 points)?**"
      ],
      "metadata": {
        "id": "qSOdpA0EQ3yO"
      }
    },
    {
      "cell_type": "markdown",
      "source": [
        "The disparaty metric for intersectionnal attribute is considering the 2 people who are part of the 2 unpriviledge group, and those who are part of the 2 priviledge group. It compares the probability of good outcome between the 2.\n",
        "This a comparaison by subtraction from the difference: for instance let's consider a white male as a priviledge intersectionnal group, and black women as unpriviledge intersectionnal group. The metrics mesures the difference in our case the probability to get an 50k or more salary between the 2."
      ],
      "metadata": {
        "id": "20yX6SamRNT7"
      }
    },
    {
      "cell_type": "markdown",
      "source": [],
      "metadata": {
        "id": "QMKdYKHb2vWd"
      }
    }
  ]
}